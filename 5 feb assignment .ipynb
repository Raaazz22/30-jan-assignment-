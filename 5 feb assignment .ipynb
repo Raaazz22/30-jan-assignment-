{
 "cells": [
  {
   "cell_type": "code",
   "execution_count": 4,
   "id": "25efcc10-d103-49b4-bc3b-46a56b4192cd",
   "metadata": {},
   "outputs": [],
   "source": [
    "#Q1. Explain Class and Object with respect to Object-Oriented Programming. Give a suitable example.\n",
    "\n",
    "\n",
    "#class  - the class are the skeleton or blueprint.class ir real world entiry i.e car , phone ,etc\n",
    "\n",
    "#oject- the object is the instance of the class . the object are property\n",
    "\n",
    "\n",
    "class myclass :\n",
    "    \n",
    "    def welcome():\n",
    "        print(\"Hello , world\")\n"
   ]
  },
  {
   "cell_type": "code",
   "execution_count": null,
   "id": "64fde701-33ca-4bc4-a9b8-1827633d44f6",
   "metadata": {},
   "outputs": [],
   "source": [
    "#Q2. Name the four pillars of OOPs.\n",
    "\n",
    "# 1. Polymorphism\n",
    "# 2. Inheritance\n",
    "# 3. Encapsulation\n",
    "# 4. Abstraction\n"
   ]
  },
  {
   "cell_type": "code",
   "execution_count": 6,
   "id": "cd3df9ba-9fff-4e45-a3b5-9d705238b81f",
   "metadata": {},
   "outputs": [],
   "source": [
    "#Q3. Explain why the __init__() function is used. Give a suitable example.\n",
    "\n",
    "# In python programming language the __init__() function is used to take the input argument from the user .\n",
    "\n",
    "class myclass :\n",
    "    def __init__(self,a,b):\n",
    "        self.a=a\n",
    "        self.b=b\n",
    "     "
   ]
  },
  {
   "cell_type": "code",
   "execution_count": null,
   "id": "f52f7375-8ef1-4956-99ad-4590a094a269",
   "metadata": {},
   "outputs": [],
   "source": [
    "#Q4. Why self is used in OOPs?\n",
    "\n",
    "# In python programming language the self is used to telling the class that the given varibale is the variable of \n",
    "#your class .\n",
    "\n",
    "class myclass :\n",
    "    def __init__(self,a,b):\n",
    "        self.a=a\n",
    "        self.b=b"
   ]
  },
  {
   "cell_type": "code",
   "execution_count": 10,
   "id": "5ba2b965-b41f-4fc5-b253-8ec4886a8599",
   "metadata": {},
   "outputs": [
    {
     "data": {
      "text/plain": [
       "'hello'"
      ]
     },
     "execution_count": 10,
     "metadata": {},
     "output_type": "execute_result"
    }
   ],
   "source": [
    "#Q5. What is inheritance? Give an example for each type of inheritance.\n",
    "\n",
    "\n",
    "# Inheritance is the piller of oops which inherit the property of one class to another class\n",
    "\n",
    "#single level inheritance\n",
    "\n",
    "class parent:\n",
    "    def myfun1(self):\n",
    "        return \"hello\"\n",
    "class child(parent):\n",
    "    pass\n",
    "\n",
    "obj1=child()\n",
    "\n",
    "obj1.myfun1()\n",
    "\n",
    "\n",
    "#multilevel inheritance\n",
    "\n",
    "class grand_parent:\n",
    "    def myfun1(self):\n",
    "        return \"hello\"\n",
    "class parent2(grand_parent):\n",
    "    pass\n",
    "\n",
    "class child2(parent):\n",
    "    pass\n",
    "\n",
    "obj2=child2()\n",
    "\n",
    "obj2.myfun1()"
   ]
  },
  {
   "cell_type": "code",
   "execution_count": null,
   "id": "b8866a64-5c45-4c3c-9c40-a0a7c1bb96cd",
   "metadata": {},
   "outputs": [],
   "source": []
  },
  {
   "cell_type": "code",
   "execution_count": null,
   "id": "82bc27bd-689d-4453-8bc3-c587215ea9f2",
   "metadata": {},
   "outputs": [],
   "source": []
  }
 ],
 "metadata": {
  "kernelspec": {
   "display_name": "Python 3 (ipykernel)",
   "language": "python",
   "name": "python3"
  },
  "language_info": {
   "codemirror_mode": {
    "name": "ipython",
    "version": 3
   },
   "file_extension": ".py",
   "mimetype": "text/x-python",
   "name": "python",
   "nbconvert_exporter": "python",
   "pygments_lexer": "ipython3",
   "version": "3.10.8"
  }
 },
 "nbformat": 4,
 "nbformat_minor": 5
}
