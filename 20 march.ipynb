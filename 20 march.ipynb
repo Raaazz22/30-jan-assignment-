{
 "cells": [
  {
   "cell_type": "code",
   "execution_count": null,
   "id": "6f7ae38c-3882-4a73-b16a-7681fec12fb4",
   "metadata": {},
   "outputs": [],
   "source": [
    "Q1. What is data encoding? How is it useful in data science?\n",
    "\n",
    "Encoding is a technique of converting categorical variables into numerical values so that it could be easily fitted to a\n",
    "machine learning model."
   ]
  },
  {
   "cell_type": "code",
   "execution_count": null,
   "id": "40c0eb9c-ff59-4742-85fd-9df78845b603",
   "metadata": {},
   "outputs": [],
   "source": [
    "Q2. What is nominal encoding? Provide an example of how you would use it in a real-world scenario.\n",
    "\n",
    "When we have a feature where variables are just names and there is no order or rank to this variable's feature.\n",
    "\n",
    "For example: City of person lives in, Gender of person, Marital Status, etc…"
   ]
  },
  {
   "cell_type": "code",
   "execution_count": null,
   "id": "98347e1e-2a1c-494e-8708-f69b40be8551",
   "metadata": {},
   "outputs": [],
   "source": [
    "Q3. In what situations is nominal encoding preferred over one-hot encoding? Provide a practical example.\n",
    "\n",
    "One-hot encoding would create a separate column for each type of fruit, with a value of 1 indicating that the row \n",
    "\n",
    "contains data about that fruit and a value of 0 indicating that it does not."
   ]
  },
  {
   "cell_type": "code",
   "execution_count": null,
   "id": "fc28eb0c-7f9b-45ae-848c-dae41058997d",
   "metadata": {},
   "outputs": [],
   "source": [
    "Q4. Suppose you have a dataset containing categorical data with 5 unique values. Which encoding\n",
    "technique would you use to transform this data into a format suitable for machine learning algorithms?\n",
    "Explain why you made this choice.\n",
    "\n",
    "we use one hot encoding techniques because when the one hot technique is used when the unique values is equal to or greater then 5\n"
   ]
  },
  {
   "cell_type": "code",
   "execution_count": null,
   "id": "43d3c24b-463e-4962-a0ff-b8f69d06dd50",
   "metadata": {},
   "outputs": [],
   "source": [
    "Q5. In a machine learning project, you have a dataset with 1000 rows and 5 columns. Two of the columns\n",
    "are categorical, and the remaining three columns are numerical. If you were to use nominal encoding to\n",
    "transform the categorical data, how many new columns would be created? Show your calculations.\n",
    "\n",
    "there are total 1000 columns are created."
   ]
  },
  {
   "cell_type": "code",
   "execution_count": null,
   "id": "53e888c6-8d68-41e0-a810-f7b332e20da3",
   "metadata": {},
   "outputs": [],
   "source": [
    "Q6. You are working with a dataset containing information about different types of animals, including their\n",
    "species, habitat, and diet. Which encoding technique would you use to transform the categorical data into\n",
    "a format suitable for machine learning algorithms? Justify your answer.\n",
    "\n",
    "we use nominal encoding "
   ]
  },
  {
   "cell_type": "code",
   "execution_count": null,
   "id": "9c63d6e2-1efd-4161-9400-05ae5d3e58c0",
   "metadata": {},
   "outputs": [],
   "source": [
    "Q7.You are working on a project that involves predicting customer churn for a telecommunications\n",
    "company. You have a dataset with 5 features, including the customer's gender, age, contract type,\n",
    "monthly charges, and tenure. Which encoding technique(s) would you use to transform the categorical\n",
    "data into numerical data? Provide a step-by-step explanation of how you would implement the encoding.\n",
    "\n",
    "\n",
    "we use one hot encoding"
   ]
  }
 ],
 "metadata": {
  "kernelspec": {
   "display_name": "Python 3 (ipykernel)",
   "language": "python",
   "name": "python3"
  },
  "language_info": {
   "codemirror_mode": {
    "name": "ipython",
    "version": 3
   },
   "file_extension": ".py",
   "mimetype": "text/x-python",
   "name": "python",
   "nbconvert_exporter": "python",
   "pygments_lexer": "ipython3",
   "version": "3.10.8"
  }
 },
 "nbformat": 4,
 "nbformat_minor": 5
}
