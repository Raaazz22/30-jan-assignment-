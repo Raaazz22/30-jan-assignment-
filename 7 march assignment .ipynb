{
 "cells": [
  {
   "cell_type": "code",
   "execution_count": null,
   "id": "a3b39a7a-983f-4089-95f1-c9b487327cce",
   "metadata": {},
   "outputs": [],
   "source": [
    "#Q1. What are the three measures of central tendency?\n",
    "\n",
    "the three measure of central tendecy  is -\n",
    "\n",
    "1. mean\n",
    "2. median\n",
    "3. mode"
   ]
  },
  {
   "cell_type": "code",
   "execution_count": null,
   "id": "0b81d4ab-0eb1-4bf1-b59b-81fa2ceb592a",
   "metadata": {},
   "outputs": [],
   "source": [
    "#Q2. What is the difference between the mean, median, and mode? How are they used to measure the\n",
    "#central tendency of a dataset?\n",
    "\n",
    "\n",
    "mean  - the mean is also known as the average . mean is equal to the summation of all the data elements \n",
    "divided by the total number of the data points.\n",
    "\n",
    "\n",
    "\n",
    "median - the median is the maximum data element of the data element .\n",
    "\n",
    "mode - the mode is the maximum frequency of a data element.\n"
   ]
  },
  {
   "cell_type": "code",
   "execution_count": 5,
   "id": "29e4bce6-d3a1-4abf-8935-08f8146aebca",
   "metadata": {},
   "outputs": [
    {
     "name": "stdout",
     "output_type": "stream",
     "text": [
      "the mean is  177.01875\n",
      "the median is  177.0\n",
      "the mode is  ModeResult(mode=array([177.]), count=array([3]))\n"
     ]
    },
    {
     "name": "stderr",
     "output_type": "stream",
     "text": [
      "/tmp/ipykernel_84/2490034019.py:21: FutureWarning: Unlike other reduction functions (e.g. `skew`, `kurtosis`), the default behavior of `mode` typically preserves the axis it acts along. In SciPy 1.11.0, this behavior will change: the default value of `keepdims` will become False, the `axis` over which the statistic is taken will be eliminated, and the value None will no longer be accepted. Set `keepdims` to True or False to avoid this warning.\n",
      "  print ('the mode is ' , st.mode(height))\n"
     ]
    }
   ],
   "source": [
    "#Q3. Measure the three measures of central tendency for the given height data:\n",
    "#[178,177,176,177,178.2,178,175,179,180,175,178.9,176.2,177,172.5,178,176.5]\n",
    "\n",
    "\n",
    "height = [178,177,176,177,178.2,178,175,179,180,175,178.9,176.2,177,172.5,178,176.5]\n",
    "\n",
    "import numpy as np\n",
    "from scipy import stats as st\n",
    "\n",
    "#mean\n",
    "\n",
    "print ('the mean is ' , np.mean(height))\n",
    "\n",
    "#medain\n",
    "       \n",
    "print('the median is ' , np.median(height))\n",
    "\n",
    "\n",
    "#mode\n",
    "\n",
    "print ('the mode is ' , st.mode(height))"
   ]
  },
  {
   "cell_type": "code",
   "execution_count": 7,
   "id": "6de871cb-4c68-437a-90d0-762589edd151",
   "metadata": {},
   "outputs": [
    {
     "data": {
      "text/plain": [
       "1.7885814036548633"
      ]
     },
     "execution_count": 7,
     "metadata": {},
     "output_type": "execute_result"
    }
   ],
   "source": [
    "#Q4. Find the standard deviation for the given data:\n",
    "#[178,177,176,177,178.2,178,175,179,180,175,178.9,176.2,177,172.5,178,176.5]\n",
    "\n",
    "import numpy as np\n",
    "\n",
    "\n",
    "data = [178,177,176,177,178.2,178,175,179,180,175,178.9,176.2,177,172.5,178,176.5]\n",
    "\n",
    "\n",
    "#standard deviation\n",
    "\n",
    "np.std(data)"
   ]
  },
  {
   "cell_type": "code",
   "execution_count": null,
   "id": "acdb04cc-3269-4af0-b8b4-e16bcb235bc4",
   "metadata": {},
   "outputs": [],
   "source": [
    "#Q5. How are measures of dispersion such as range, variance, and standard deviation used to describe\n",
    "#the spread of a dataset? Provide an example.\n",
    "\n",
    "Range-\n",
    "The range is the easiest dispersion of data or measure of variability. The range can measure by subtracting the lowest \n",
    "value from the massive Number. The wide range indicates high variability, and the small range specifies low variability \n",
    "in the distribution. \n",
    "\n",
    "\n",
    "Interquartile Range (IQR)-\n",
    "IQR is a range (the boundary between the first and second quartile) and Q3 (the boundary between the third and fourth \n",
    "quartile).IQR is preferred over a range as, like a range, IQR does not influence by outliers. IQR is used to measure \n",
    "variability by splitting a data set into four equal quartiles.\n",
    "\n",
    "\n",
    "Variance-\n",
    "Variance is a simple measure of dispersion. Variance measures how far each number in the dataset from the mean. \n",
    "To compute variance first, calculate the mean and squared deviations from a mean.\n",
    "\n",
    "Standard Deviation-\n",
    "Standard deviation is a squared root of the variance to get original values. Low standard deviation indicates data \n",
    "points close to mean.\n"
   ]
  },
  {
   "cell_type": "code",
   "execution_count": null,
   "id": "3af174bc-2385-46ae-a8e0-50fb440fdbce",
   "metadata": {},
   "outputs": [],
   "source": [
    "#Q6. What is a Venn diagram?\n",
    "\n",
    "the venn diagram is the graphical representation of the set."
   ]
  },
  {
   "cell_type": "code",
   "execution_count": null,
   "id": "426a187d-abcb-465d-af39-49dba3f9fdb9",
   "metadata": {},
   "outputs": [],
   "source": [
    "#Q7. For the two given sets A = (2,3,4,5,6,7) & B = (0,2,6,8,10). Find:\n",
    "#(i) A intersection B\n",
    "#(ii) A ⋃ B\n",
    "\n",
    "\n",
    "(i) A intersection B = (2,6)\n",
    "\n",
    "\n",
    "(ii) A ⋃ B = (0,2,3,4,5,6,7,8,10)"
   ]
  },
  {
   "cell_type": "code",
   "execution_count": null,
   "id": "2f1aa937-d8af-423f-99d7-388835dccbbf",
   "metadata": {},
   "outputs": [],
   "source": [
    "#Q8. What do you understand about skewness in data?\n",
    "\n",
    "\n",
    "Skewness is a measure of the asymmetry of a distribution. A distribution is asymmetrical when its left and right side \n",
    "are not mirror images. "
   ]
  },
  {
   "cell_type": "code",
   "execution_count": null,
   "id": "6abe1bd8-54b1-45f1-80f5-f951dc1df8c4",
   "metadata": {},
   "outputs": [],
   "source": [
    "#Q9. If a data is right skewed then what will be the position of median with respect to mean?\n",
    "\n",
    "\n",
    "mode is often less than the median"
   ]
  },
  {
   "cell_type": "code",
   "execution_count": null,
   "id": "b9f5e37a-3ebc-4b77-b20a-8126563da9fc",
   "metadata": {},
   "outputs": [],
   "source": [
    "#Q10. Explain the difference between covariance and correlation. How are these measures used in\n",
    "#statistical analysis?\n",
    "\n",
    "\n",
    "Covariance is an indicator of the extent to which 2 random variables are dependent on each other. \n",
    "A higher number denotes higher dependency. Correlation is a statistical measure that indicates how strongly two \n",
    "variables are related. The value of covariance lies in the range of -∞ and +∞."
   ]
  },
  {
   "cell_type": "code",
   "execution_count": null,
   "id": "5a2e1768-9c64-4159-a096-3ff29eb2921f",
   "metadata": {},
   "outputs": [],
   "source": [
    "#Q11. What is the formula for calculating the sample mean? Provide an example calculation for a\n",
    "#dataset.\n",
    "\n",
    "x̄ = ( Σ xi ) / n\n"
   ]
  },
  {
   "cell_type": "code",
   "execution_count": null,
   "id": "b76d82c0-f737-4aa4-9c28-c76dbf7fadb1",
   "metadata": {},
   "outputs": [],
   "source": [
    "#Q12. For a normal distribution data what is the relationship between its measure of central tendency?\n",
    "\n",
    "\n",
    "all measures of central tendency (most commonly, the mean, median, and mode) give the same answer: \n",
    "    the x -value of the peak."
   ]
  },
  {
   "cell_type": "code",
   "execution_count": null,
   "id": "636af8e1-bb56-4c4f-8544-59174b9ded06",
   "metadata": {},
   "outputs": [],
   "source": [
    "#Q13. How is covariance different from correlation?\n",
    "\n",
    "Covariance shows you how the two variables differ, whereas correlation shows you how the two variables are related."
   ]
  },
  {
   "cell_type": "code",
   "execution_count": null,
   "id": "ee28a4ee-8061-41a7-9d4e-87cca1aafa45",
   "metadata": {},
   "outputs": [],
   "source": [
    "#Q14. How do outliers affect measures of central tendency and dispersion? Provide an example.\n",
    "\n",
    "\n",
    "Outliers are numbers in a data set that are vastly larger or smaller than the other values in the set. \n",
    "Mean, median and mode are measures of central tendency. Mean is the only measure of central tendency that is always \n",
    "affected by an outlier."
   ]
  }
 ],
 "metadata": {
  "kernelspec": {
   "display_name": "Python 3 (ipykernel)",
   "language": "python",
   "name": "python3"
  },
  "language_info": {
   "codemirror_mode": {
    "name": "ipython",
    "version": 3
   },
   "file_extension": ".py",
   "mimetype": "text/x-python",
   "name": "python",
   "nbconvert_exporter": "python",
   "pygments_lexer": "ipython3",
   "version": "3.10.8"
  }
 },
 "nbformat": 4,
 "nbformat_minor": 5
}
