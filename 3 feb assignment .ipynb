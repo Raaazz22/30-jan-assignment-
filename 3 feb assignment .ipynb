{
 "cells": [
  {
   "cell_type": "code",
   "execution_count": 2,
   "id": "ce168082-61de-46fe-a6c1-97914d54be82",
   "metadata": {},
   "outputs": [
    {
     "name": "stdout",
     "output_type": "stream",
     "text": [
      "[1, 3, 5, 7, 9, 11, 13, 15, 17, 19, 21, 23, 25]\n"
     ]
    }
   ],
   "source": [
    "#Q1. Which keyword is used to create a function? Create a function to return a list of odd numbers in the\n",
    "#range of 1 to 25.\n",
    "\n",
    "# In python programming language the def keyword is used to create the function.\n",
    "\n",
    "def odd_number ():\n",
    "    l=[]\n",
    "    for i in range (0,26):\n",
    "        if i%2 !=0:\n",
    "            l.append(i)\n",
    "    print(l)\n",
    "\n",
    "odd_number()"
   ]
  },
  {
   "cell_type": "code",
   "execution_count": 3,
   "id": "c2586c58-058a-4fe9-8d86-ece7870522ec",
   "metadata": {},
   "outputs": [
    {
     "name": "stdout",
     "output_type": "stream",
     "text": [
      "1\n",
      "2\n",
      "3\n",
      "4\n",
      "5\n",
      "first == Raj\n",
      "last == chaudhary\n"
     ]
    }
   ],
   "source": [
    "#Q2. Why *args and **kwargs is used in some functions? Create a function each for *args and **kwargs \n",
    "#to demonstrate their use.\n",
    "\n",
    "\n",
    "#In python programming language the *args is used if the user wants the multiple number of arguments from user. \n",
    "#**kwargs are used in python if the user wants dictionary as a argument.\n",
    "\n",
    "\n",
    "\n",
    "# *args program\n",
    "\n",
    "   \n",
    "def args(*args):\n",
    "    for i in args:\n",
    "        print(i)\n",
    "        \n",
    "args(1,2,3,4,5)\n",
    "\n",
    "\n",
    "# *kwargs program\n",
    "\n",
    "def kwargs(arg1, **kwargs):\n",
    "    for key, value in kwargs.items():\n",
    "        print(\"%s == %s\" % (key, value))\n",
    " \n",
    "\n",
    "kwargs(\"hii\", first='Raj', last='chaudhary')"
   ]
  },
  {
   "cell_type": "code",
   "execution_count": null,
   "id": "a40e55ef-6d02-4789-b4c7-a36b018d7053",
   "metadata": {},
   "outputs": [],
   "source": [
    "#Q3. What is an iterator in python? Name the method used to initialise the iterator object and the method\n",
    "#used for iteration. Use these methods to print the first five elements of the given list [2, 4, 6, 8, 10, 12, 14,\n",
    "#16, 18, 20].\n",
    "\n",
    "\n",
    "#The iterators are used to generate the finite number of values.\n",
    "\n",
    "#iter() method is used for iteration.\n",
    "\n",
    "a=tuple([2, 4, 6, 8, 10, 12, 14, 16, 18, 20])\n",
    "\n",
    "a=iter(a)\n",
    "\n",
    "print(next(a))\n",
    "print(next(a))\n",
    "print(next(a))\n",
    "print(next(a))\n",
    "print(next(a))"
   ]
  },
  {
   "cell_type": "code",
   "execution_count": null,
   "id": "64419881-d7fd-427b-8d75-6bc01dc9db6f",
   "metadata": {},
   "outputs": [],
   "source": [
    "#Q4. What is a generator function in python? Why yield keyword is used? Give an example of a generator\n",
    "#function.\n",
    "\n",
    "\n",
    "#In python programming language the generator function are special typee of function they are used to \n",
    "#reduce the memory consumption.it generate the output without holding everything into memory.\n",
    "\n",
    "def fib(n):\n",
    "    a,b=0,1\n",
    "    for i in range (n):\n",
    "        yield a\n",
    "        a,b=b,a+b\n",
    "        \n",
    "for i in fib(10):\n",
    "    print(i)\n",
    "        "
   ]
  },
  {
   "cell_type": "code",
   "execution_count": null,
   "id": "77efd809-a69f-46ec-beb5-c0bd162dca2a",
   "metadata": {},
   "outputs": [],
   "source": [
    "#Q5. Create a generator function for prime numbers less than 1000. Use the next() method to print the\n",
    "#first 20 prime numbers.\n",
    "\n",
    "\n",
    "def prime():\n",
    "    for i in range(1000):\n",
    "        if i==1:\n",
    "            pass\n",
    "        elif i>1 :\n",
    "            for j in range (2,i):\n",
    "                if j%i==0:\n",
    "            print(i)\n",
    "                    \n",
    "prime()"
   ]
  },
  {
   "cell_type": "code",
   "execution_count": 1,
   "id": "df93642f-9fa7-48a4-9f7e-0d9ecbf8fb51",
   "metadata": {},
   "outputs": [
    {
     "name": "stdout",
     "output_type": "stream",
     "text": [
      "0\n",
      "1\n",
      "1\n",
      "2\n",
      "3\n",
      "5\n",
      "8\n",
      "13\n",
      "21\n",
      "34\n"
     ]
    }
   ],
   "source": [
    "#Q6. Write a python program to print the first 10 Fibonacci numbers using a while loop.\n",
    "\n",
    "\n",
    "x=10\n",
    "a,b=0,1\n",
    "count = 0\n",
    "while count<10:\n",
    "    print (a)\n",
    "    c=a+b\n",
    "    a=b\n",
    "    b=c\n",
    "    count=count=count+1"
   ]
  },
  {
   "cell_type": "code",
   "execution_count": 2,
   "id": "8ca01d47-78fd-48b6-b011-6b2df04f26c3",
   "metadata": {},
   "outputs": [
    {
     "name": "stdout",
     "output_type": "stream",
     "text": [
      "['p', 'w', 's', 'k', 'i', 'l', 'l', 's']\n"
     ]
    }
   ],
   "source": [
    "#Q7. Write a List Comprehension to iterate through the given string: ‘pwskills’.\n",
    "#Expected output: ['p', 'w', 's', 'k', 'i', 'l', 'l', 's']\n",
    "\n",
    "\n",
    "x=\"pwskills\"\n",
    "mylist=[i for i in x ]\n",
    "print(mylist)"
   ]
  },
  {
   "cell_type": "code",
   "execution_count": 3,
   "id": "803bb7f4-1ad4-410e-8236-c29784c9fd57",
   "metadata": {},
   "outputs": [
    {
     "name": "stdin",
     "output_type": "stream",
     "text": [
      "Enter number: 6885\n"
     ]
    },
    {
     "name": "stdout",
     "output_type": "stream",
     "text": [
      "The number isn't a palindrome!\n"
     ]
    }
   ],
   "source": [
    "#Q8. Write a python program to check whether a given number is Palindrome or not using a while loop.\n",
    "\n",
    "\n",
    "n=int(input(\"Enter number:\"))\n",
    "temp=n\n",
    "rev=0\n",
    "while(n>0):\n",
    "    dig=n%10\n",
    "    rev=rev*10+dig\n",
    "    n=n//10\n",
    "if(temp==rev):\n",
    "    print(\"The number is a palindrome!\")\n",
    "else:\n",
    "    print(\"The number isn't a palindrome!\")"
   ]
  },
  {
   "cell_type": "code",
   "execution_count": 4,
   "id": "f466b2a5-60d2-43f3-a830-e6962aceef7c",
   "metadata": {},
   "outputs": [
    {
     "name": "stdout",
     "output_type": "stream",
     "text": [
      "[1, 3, 5, 7, 9, 11, 13, 15, 17, 19, 21, 23, 25, 27, 29, 31, 33, 35, 37, 39, 41, 43, 45, 47, 49, 51, 53, 55, 57, 59, 61, 63, 65, 67, 69, 71, 73, 75, 77, 79, 81, 83, 85, 87, 89, 91, 93, 95, 97, 99]\n"
     ]
    }
   ],
   "source": [
    "#Q9. Write a code to print odd numbers from 1 to 100 using list comprehension.\n",
    "\n",
    "mylist=[i for i in range(1,100) if i%2!=0]\n",
    "print(mylist)"
   ]
  },
  {
   "cell_type": "code",
   "execution_count": null,
   "id": "446c9383-9c2e-41bf-969e-d6e058e18b73",
   "metadata": {},
   "outputs": [],
   "source": []
  }
 ],
 "metadata": {
  "kernelspec": {
   "display_name": "Python 3 (ipykernel)",
   "language": "python",
   "name": "python3"
  },
  "language_info": {
   "codemirror_mode": {
    "name": "ipython",
    "version": 3
   },
   "file_extension": ".py",
   "mimetype": "text/x-python",
   "name": "python",
   "nbconvert_exporter": "python",
   "pygments_lexer": "ipython3",
   "version": "3.10.8"
  }
 },
 "nbformat": 4,
 "nbformat_minor": 5
}
