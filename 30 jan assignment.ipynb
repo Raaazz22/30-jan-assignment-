{
 "cells": [
  {
   "cell_type": "code",
   "execution_count": 1,
   "id": "1a6a9acc-e045-430c-8b6b-a31daeca9f0e",
   "metadata": {},
   "outputs": [
    {
     "name": "stdin",
     "output_type": "stream",
     "text": [
      "Enter the percentage you got : 55\n"
     ]
    },
    {
     "name": "stdout",
     "output_type": "stream",
     "text": [
      "your grade is D \n"
     ]
    }
   ],
   "source": [
    "#Question 1\n",
    "\n",
    "\n",
    "\n",
    "percentage = int(input(\"Enter the percentage you got :\"))\n",
    "\n",
    "if percentage > 90 :\n",
    "    print(\"your grade is A \")\n",
    "  \n",
    "elif percentage > 80 and percentage <= 90 :\n",
    " print(\"your grade is B \")\n",
    "    \n",
    "elif percentage >60 and percentage <=80 :\n",
    "  print(\"your grade is C \")\n",
    "\n",
    "else:\n",
    "  print(\"your grade is D \")"
   ]
  },
  {
   "cell_type": "code",
   "execution_count": 2,
   "id": "e2fedf81-0b4a-4dcf-8a92-149439b50707",
   "metadata": {},
   "outputs": [
    {
     "name": "stdin",
     "output_type": "stream",
     "text": [
      "Enter the price of a bike  52855\n"
     ]
    },
    {
     "name": "stdout",
     "output_type": "stream",
     "text": [
      "Your tax amount is: 5285.5\n"
     ]
    }
   ],
   "source": [
    "#Question 2\n",
    "\n",
    "\n",
    "cost = int(input('Enter the price of a bike '))\n",
    "\n",
    "if cost > 100000:\n",
    "           tax_amount = 15/100 * cost ;\n",
    "           print('Your tax amount is:',tax_amount)\n",
    "        \n",
    "elif cost > 50000 and cost <= 100000:\n",
    "           tax_amount = 10/100 * cost ;\n",
    "           print('Your tax amount is:',tax_amount)\n",
    "            \n",
    "elif  cost <= 50000:\n",
    "           tax_amount = 5/100 * cost ;\n",
    "           print('Your tax amount is:',tax_amount)"
   ]
  },
  {
   "cell_type": "code",
   "execution_count": 3,
   "id": "da99e5c5-8095-4201-a57b-9e35fdd2ec86",
   "metadata": {},
   "outputs": [
    {
     "name": "stdin",
     "output_type": "stream",
     "text": [
      "Enter a city name : delhi\n"
     ]
    },
    {
     "name": "stdout",
     "output_type": "stream",
     "text": [
      "The monuments of the Delhi is Red fort \n"
     ]
    }
   ],
   "source": [
    "#Question 3\n",
    "\n",
    "\n",
    "city = str(input('Enter a city name :'))\n",
    "    \n",
    "a=city.capitalize()\n",
    "    \n",
    "if a == \"Delhi\":\n",
    "    print('The monuments of the Delhi is Red fort ')\n",
    "    \n",
    "elif a == \"Agra\" :\n",
    "    print('The monuments of the Agra is Taj Mahal ')\n",
    "    \n",
    "elif a == \"Jaipur\" :\n",
    "    print('The monuments of the Jaipur  is Jai Mahal ')"
   ]
  },
  {
   "cell_type": "code",
   "execution_count": 4,
   "id": "a0a4aa6a-03dc-483e-9f6d-c2155b23a999",
   "metadata": {},
   "outputs": [
    {
     "name": "stdout",
     "output_type": "stream",
     "text": [
      "1\n",
      "2\n",
      "3\n",
      "4\n",
      "5\n",
      "6\n",
      "7\n",
      "8\n",
      "9\n",
      "10\n",
      "11\n"
     ]
    }
   ],
   "source": [
    "#Question 5\n",
    "\n",
    "\n",
    "\"\"\"Python while loop is used to run a block code until a certain condition is met. Here, A while loop evaluates the condition. \n",
    "If the condition evaluates to True , the code inside the while loop is executed.\"\"\"\n",
    "\n",
    "i=0 \n",
    "while i<=10:\n",
    "    i=i+1\n",
    "    print(i)\n"
   ]
  },
  {
   "cell_type": "code",
   "execution_count": 5,
   "id": "a2fb216b-acff-4aa3-991a-f497b40ef79e",
   "metadata": {},
   "outputs": [
    {
     "name": "stdout",
     "output_type": "stream",
     "text": [
      "1 \n",
      "3 3 \n",
      "5 5 5 \n",
      "7 7 7 7 \n",
      "9 9 9 9 9 \n"
     ]
    }
   ],
   "source": [
    "#Question 6\n",
    "\n",
    "rows = 5\n",
    "i = 1\n",
    "while i <= rows:\n",
    "    j = 1\n",
    "    while j <= i:\n",
    "        print((i * 2 - 1), end=\" \")\n",
    "        j = j + 1\n",
    "    i = i + 1\n",
    "    print('')"
   ]
  },
  {
   "cell_type": "code",
   "execution_count": 6,
   "id": "ea643c44-4f97-41b1-bc9b-9962ccd1692e",
   "metadata": {},
   "outputs": [
    {
     "name": "stdout",
     "output_type": "stream",
     "text": [
      "10\n",
      "9\n",
      "8\n",
      "7\n",
      "6\n",
      "5\n",
      "4\n",
      "3\n",
      "2\n",
      "1\n"
     ]
    }
   ],
   "source": [
    "#Question 7\n",
    "\n",
    "i = 10\n",
    "while i > 0:\n",
    "    print(i)\n",
    "    i = i - 1"
   ]
  },
  {
   "cell_type": "code",
   "execution_count": 7,
   "id": "fa40c5a1-b417-4af5-b291-14bff6288572",
   "metadata": {},
   "outputs": [
    {
     "name": "stdout",
     "output_type": "stream",
     "text": [
      "10\n",
      "9\n",
      "8\n",
      "7\n",
      "6\n",
      "5\n",
      "4\n",
      "3\n",
      "2\n",
      "1\n"
     ]
    }
   ],
   "source": [
    "#Question 8 \n",
    "\n",
    "i = 10\n",
    "while i > 0:\n",
    "    print(i)\n",
    "    i = i - 1"
   ]
  },
  {
   "cell_type": "code",
   "execution_count": null,
   "id": "daaceddf-393e-4be8-8d06-939d1c863d90",
   "metadata": {},
   "outputs": [],
   "source": []
  }
 ],
 "metadata": {
  "kernelspec": {
   "display_name": "Python 3 (ipykernel)",
   "language": "python",
   "name": "python3"
  },
  "language_info": {
   "codemirror_mode": {
    "name": "ipython",
    "version": 3
   },
   "file_extension": ".py",
   "mimetype": "text/x-python",
   "name": "python",
   "nbconvert_exporter": "python",
   "pygments_lexer": "ipython3",
   "version": "3.10.8"
  }
 },
 "nbformat": 4,
 "nbformat_minor": 5
}
