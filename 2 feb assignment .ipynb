{
 "cells": [
  {
   "cell_type": "code",
   "execution_count": 16,
   "id": "bead7ccb-60e4-4a2d-bb72-b2b7e2f804be",
   "metadata": {},
   "outputs": [
    {
     "name": "stdout",
     "output_type": "stream",
     "text": [
      "1\n",
      "2\n",
      "3\n",
      "4\n",
      "5\n",
      "\n",
      "\n",
      "1\n",
      "2\n",
      "3\n",
      "4\n",
      "5\n",
      "6\n",
      "7\n",
      "8\n",
      "9\n",
      "10\n",
      "11\n"
     ]
    }
   ],
   "source": [
    "#Q1. Explain with an example each when to use a for loop and a while loop.\n",
    "\n",
    "\n",
    "#for loop- \n",
    "\n",
    "#The 'for' loop was only used when the number of iterations was already known.\n",
    "\n",
    "l=[1,2,3,4,5]\n",
    "\n",
    "for i in l:\n",
    "    print(i)\n",
    "print(\"\\n\")\n",
    "    \n",
    "\n",
    "#while loop-\n",
    "\n",
    "#When the number of iterations is unknown, the 'while' loop is used.\n",
    "\n",
    "i=0 \n",
    "while i<=10:\n",
    "    i=i+1\n",
    "    print(i)\n"
   ]
  },
  {
   "cell_type": "code",
   "execution_count": null,
   "id": "cb53e334-0695-41e1-908a-b093c31d25e1",
   "metadata": {},
   "outputs": [],
   "source": []
  },
  {
   "cell_type": "code",
   "execution_count": 17,
   "id": "d07e09c7-ab93-4378-aeca-b01c5a2db59f",
   "metadata": {},
   "outputs": [
    {
     "name": "stdout",
     "output_type": "stream",
     "text": [
      "Sum = 55\n"
     ]
    }
   ],
   "source": [
    "#Q2. Write a python program to print the sum  of the first 10 natural numbers using for and while loop.\n",
    "\n",
    "sum = 0\n",
    "i = 1\n",
    "while i<=10:\n",
    "    sum = sum+i\n",
    "    i = i+1\n",
    "\n",
    "print(\"Sum =\", sum)\n",
    "\n"
   ]
  },
  {
   "cell_type": "code",
   "execution_count": null,
   "id": "54b91007-f6b0-4884-86d8-2564c24dbbca",
   "metadata": {},
   "outputs": [],
   "source": []
  },
  {
   "cell_type": "code",
   "execution_count": 18,
   "id": "fbcaefdf-e8c5-4b38-9f3e-b9ecae9132e6",
   "metadata": {},
   "outputs": [
    {
     "name": "stdin",
     "output_type": "stream",
     "text": [
      "Enter the unit of electricity consumed : 310\n"
     ]
    },
    {
     "name": "stdout",
     "output_type": "stream",
     "text": [
      "Your electricity bill is-  2250.0\n"
     ]
    }
   ],
   "source": [
    "#Q.3  Create a python program to compute the electricity bill for a household.\n",
    "#The per-unit charges in rupees are as follows: For the first 100 units, the user will be charged Rs. 4.5 per\n",
    "#unit, for the next 100 units, the user will be charged Rs. 6 per unit, and for the next 100 units, the user will\n",
    "#be charged Rs. 10 per unit, After 300 units and above the user will be charged Rs. 20 per unit.\n",
    "#You are required to take the units of electricity consumed in a month from the user as input.\n",
    "#Your program must pass this test case: when the unit of electricity consumed by the user in a month is\n",
    "#310, the total electricity bill should be 2250.\n",
    "\n",
    "\n",
    "unit = int(input('Enter the unit of electricity consumed :'))\n",
    "\n",
    "if unit <= 100:\n",
    "    print('Your electricity bill is- ', unit*4.5)\n",
    "\n",
    "elif unit > 100 and unit <=200 :\n",
    "    a=100*4.5\n",
    "    b=unit-100\n",
    "    c=a*6\n",
    "    print('Your electricity bill is- ', a+c )\n",
    "    \n",
    "elif unit > 200 and unit <=300 :\n",
    "    print('Your electricity bill is- ', a+b+d)\n",
    "    a=100*4.5\n",
    "    b=100*6\n",
    "    c=unit-200\n",
    "    d=c*10\n",
    "    \n",
    "elif unit > 300 :\n",
    "    a=100*4.5\n",
    "    b=100*6\n",
    "    c=100*10\n",
    "    d=unit-300\n",
    "    e=d*20\n",
    "    \n",
    "    print('Your electricity bill is- ', a+b+c+e)\n",
    "\n",
    "\n",
    "\n"
   ]
  },
  {
   "cell_type": "code",
   "execution_count": null,
   "id": "3f2d5468-23fe-4f16-a2ea-8d95d0f45da6",
   "metadata": {},
   "outputs": [],
   "source": []
  },
  {
   "cell_type": "code",
   "execution_count": 19,
   "id": "1feb65d9-0479-4181-b55f-8e3941f02fac",
   "metadata": {},
   "outputs": [
    {
     "name": "stdout",
     "output_type": "stream",
     "text": [
      "[2, 4, 5, 6, 8, 10, 12, 14, 15, 16, 18, 20, 22, 24, 25, 26, 28, 30, 32, 34, 35, 36, 38, 40, 42, 44, 45, 46, 48, 50, 52, 54, 55, 56, 58, 60, 62, 64, 65, 66, 68, 70, 72, 74, 75, 76, 78, 80, 82, 84, 85, 86, 88, 90, 92, 94, 95, 96, 98, 100]\n"
     ]
    }
   ],
   "source": [
    "# Q4. Create a list of numbers from 1 to 100. Use for loop and while loop to calculate the cube of each\n",
    "#number and if the cube of that number is divisible by 4 or 5 then append that number in a list and print\n",
    "#that list. \n",
    "\n",
    "\n",
    "l1 = []\n",
    "\n",
    "for i in range(1,101):\n",
    "    l1.append(i)\n",
    "    i = i+1\n",
    "l2= []   \n",
    "for x in l1 :\n",
    "    cube=x*x*x\n",
    "    if cube % 4 == 0 or cube % 5 == 0 :\n",
    "        l2.append(x)\n",
    "print(l2)\n"
   ]
  },
  {
   "cell_type": "code",
   "execution_count": null,
   "id": "c8b8d420-95c4-4f5f-995f-9a319ae5bd80",
   "metadata": {},
   "outputs": [],
   "source": []
  },
  {
   "cell_type": "code",
   "execution_count": 21,
   "id": "e5f05dfd-9aeb-492f-9136-0d25137d2b4f",
   "metadata": {},
   "outputs": [
    {
     "name": "stdout",
     "output_type": "stream",
     "text": [
      "12\n"
     ]
    }
   ],
   "source": [
    "#Q5.  Write a program to filter count vowels in the below-given string.\n",
    "#string = \"I want to become a data scientist\"\n",
    "\n",
    "count=0\n",
    "string = \"I want to become a data scientist\"\n",
    "\n",
    "a = string.upper()\n",
    "for x in a :\n",
    "        if x == \"A\":\n",
    "            count= count+1\n",
    "        elif x == \"E\":\n",
    "            count= count+1\n",
    "        elif x == \"I\":\n",
    "            count= count+1\n",
    "        elif x == \"O\":\n",
    "            count= count+1\n",
    "        elif x == \"U\":\n",
    "            count= count+1\n",
    "        \n",
    "           \n",
    "print(count)\n"
   ]
  }
 ],
 "metadata": {
  "kernelspec": {
   "display_name": "Python 3 (ipykernel)",
   "language": "python",
   "name": "python3"
  },
  "language_info": {
   "codemirror_mode": {
    "name": "ipython",
    "version": 3
   },
   "file_extension": ".py",
   "mimetype": "text/x-python",
   "name": "python",
   "nbconvert_exporter": "python",
   "pygments_lexer": "ipython3",
   "version": "3.10.8"
  }
 },
 "nbformat": 4,
 "nbformat_minor": 5
}
