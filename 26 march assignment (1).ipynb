{
 "cells": [
  {
   "cell_type": "code",
   "execution_count": null,
   "id": "39abceb8-e6bf-4e3f-b61c-c6557c19310f",
   "metadata": {},
   "outputs": [],
   "source": [
    "Q1. Explain the difference between simple linear regression and multiple linear regression. Provide an\n",
    "example of each.\n",
    "\n",
    "Simple linear regression has only one x and one y variable. \n",
    "\n",
    "Multiple linear regression has one y and two or more x variables.\n",
    "\n",
    "For instance, when we predict rent based on square feet alone that is simple linear regression."
   ]
  },
  {
   "cell_type": "code",
   "execution_count": null,
   "id": "4ca06f65-6ee4-4a25-b2c9-08997e94f0a7",
   "metadata": {},
   "outputs": [],
   "source": [
    "Q2. Discuss the assumptions of linear regression. How can you check whether these assumptions hold in\n",
    "a given dataset?\n",
    "\n",
    "The assumptions of linear regression is \n",
    "\n",
    "There is a linear relationship between the predictors (x) and the outcome (y)\n",
    "\n",
    "Predictors (x) are independent and observed with negligible error.\n",
    "\n",
    "Residual Errors have a mean value of zero.\n",
    "\n",
    "Residual Errors have constant variance."
   ]
  },
  {
   "cell_type": "code",
   "execution_count": null,
   "id": "d2c09e74-fa23-4681-b4a6-6821079a0eb6",
   "metadata": {},
   "outputs": [],
   "source": [
    "Q3. How do you interpret the slope and intercept in a linear regression model? Provide an example using\n",
    "a real-world scenario.\n",
    "\n",
    "The interept is the point on which the line lies on the axis.\n",
    "\n",
    "the slope is the change of x with respect to y.\n",
    "\n",
    "\n",
    "If the speed of the club hitting the ball increases by 1 mph, then the model predicts that the length the ball travels \n",
    "increases by 57.66 yards. Interpret the intercept: If the ball is hit with a speed of 0 mph, then the model predicts \n",
    "that the length the ball travels will be 3.18 yards."
   ]
  },
  {
   "cell_type": "code",
   "execution_count": null,
   "id": "bd78b078-4684-4a9d-a4e1-082bce7b97d6",
   "metadata": {},
   "outputs": [],
   "source": [
    "Q4. Explain the concept of gradient descent. How is it used in machine learning?\n",
    "\n",
    "Gradient descent is used to minimize the MSE by calculating the gradient of the cost function.\n",
    "\n",
    "A regression model uses gradient descent to update the coefficients of the line by reducing the cost function.\n",
    "\n",
    "It is done by a random selection of values of coefficient and then iteratively update the values to reach the minimum cost function.\n"
   ]
  },
  {
   "cell_type": "code",
   "execution_count": null,
   "id": "11bdfc63-a4b1-4a18-bc52-69d746a0f10f",
   "metadata": {},
   "outputs": [],
   "source": [
    "Q5. Describe the multiple linear regression model. How does it differ from simple linear regression?\n",
    "\n",
    "Multiple linear regression is used to estimate the relationship between two or more independent variables and one \n",
    "dependent variable. You can use multiple linear regression when you want to know\n",
    "    \n",
    "How strong the relationship is between two or more independent variables and one dependent variable (e.g. how rainfall,\n",
    "temperature, and amount of fertilizer added affect crop growth).\n",
    "\n",
    "The value of the dependent variable at a certain value of the independent variables (e.g. the expected yield of a crop at certain levels of rainfall, temperature, and fertilizer addition).\n",
    "  ,\n"
   ]
  },
  {
   "cell_type": "code",
   "execution_count": null,
   "id": "d5838778-bddd-4009-b211-c879b3c83daf",
   "metadata": {},
   "outputs": [],
   "source": [
    "Q6. Explain the concept of multicollinearity in multiple linear regression. How can you detect and\n",
    "address this issue?\n",
    "\n",
    "Multicollinearity occurs when two or more independent variables in a data frame have a high correlation with one another\n",
    "in a regression model. \n",
    "\n",
    "This means that one independent variable can be predicted from another in a regression model."
   ]
  },
  {
   "cell_type": "code",
   "execution_count": null,
   "id": "ea15d806-803a-436f-8c51-83d021cbb15c",
   "metadata": {},
   "outputs": [],
   "source": [
    "Q7. Describe the polynomial regression model. How is it different from linear regression?\n",
    "\n",
    "Polynomial regression is a form of Linear regression where only due to the Non-linear relationship between dependent and \n",
    "independent variables, we add some polynomial terms to linear regression to convert it into Polynomial regression."
   ]
  },
  {
   "cell_type": "code",
   "execution_count": null,
   "id": "22b53986-f9f9-4f2b-911c-f70a4f080f8c",
   "metadata": {},
   "outputs": [],
   "source": [
    "Q8. What are the advantages and disadvantages of polynomial regression compared to linear\n",
    "regression? In what situations would you prefer to use polynomial regression?\n",
    "\n",
    "Advantages of using Polynomial Regression:\n",
    "\n",
    "Polynomial provides the best approximation of the relationship between the dependent and independent variable.\n",
    "A Broad range of function can be fit under it.\n",
    "Polynomial basically fits a wide range of curvature.\n",
    "\n",
    "Disadvantages of using Polynomial Regression\n",
    "\n",
    "The presence of one or two outliers in the data can seriously affect the results of the nonlinear analysis.\n",
    "These are too sensitive to the outliers.\n",
    "In addition, there are unfortunately fewer model validation tools for the detection of outliers in nonlinear regression than there are for linear regression.\n",
    "Conclusion\n",
    "In this blog, I have presented you with the basic concept of Linear Regression and Polynomial Regression.\n",
    "\n",
    "\n",
    "\n",
    "\n"
   ]
  }
 ],
 "metadata": {
  "kernelspec": {
   "display_name": "Python 3 (ipykernel)",
   "language": "python",
   "name": "python3"
  },
  "language_info": {
   "codemirror_mode": {
    "name": "ipython",
    "version": 3
   },
   "file_extension": ".py",
   "mimetype": "text/x-python",
   "name": "python",
   "nbconvert_exporter": "python",
   "pygments_lexer": "ipython3",
   "version": "3.10.8"
  }
 },
 "nbformat": 4,
 "nbformat_minor": 5
}
