{
 "cells": [
  {
   "cell_type": "code",
   "execution_count": 9,
   "id": "5cf5e32f-977e-42a3-b9f5-feb8b99bdaa2",
   "metadata": {
    "tags": []
   },
   "outputs": [
    {
     "name": "stdout",
     "output_type": "stream",
     "text": [
      "None\n",
      "[('Virat Kohli', 24936), ('Jack Kallis', 25534), ('Ricky Ponting', 27483), ('Sachin Tendulkar', 34357)]\n"
     ]
    }
   ],
   "source": [
    "#Q1. Create a python program to sort the given list of tuples based on integer value using a\n",
    "#lambda function.[('Sachin Tendulkar', 34357), ('Ricky Ponting', 27483), ('Jack Kallis', 25534), ('Virat Kohli', 24936)]\n",
    "\n",
    "mytuple=[('Sachin Tendulkar', 34357), ('Ricky Ponting', 27483), ('Jack Kallis', 25534), ('Virat Kohli', 24936)]\n",
    "\n",
    "\n",
    "print(mytuple.sort(key = lambda x : x[1]))\n",
    "\n",
    "print(mytuple)"
   ]
  },
  {
   "cell_type": "code",
   "execution_count": 10,
   "id": "3c5a1d79-e0d5-40bb-a872-a0a24c1c28af",
   "metadata": {},
   "outputs": [
    {
     "name": "stdout",
     "output_type": "stream",
     "text": [
      "[1, 4, 9, 16, 25, 36, 49, 64, 81, 100]\n"
     ]
    }
   ],
   "source": [
    "#Q2. Write a Python Program to find the squares of all the numbers in the given list of integers using\n",
    "#lambda and map functions. [1, 2, 3, 4, 5, 6, 7, 8, 9, 10]\n",
    "\n",
    "mylist=[1, 2, 3, 4, 5, 6, 7, 8, 9, 10]\n",
    "\n",
    "square = list(map(lambda x :x**2,mylist))\n",
    "\n",
    "print(square)\n"
   ]
  },
  {
   "cell_type": "code",
   "execution_count": 16,
   "id": "574aa9fa-1c7f-49c2-9395-2db96e82af7f",
   "metadata": {},
   "outputs": [
    {
     "name": "stdout",
     "output_type": "stream",
     "text": [
      "('1', '2', '3', '4', '5', '6', '7', '8', '9', '10')\n"
     ]
    }
   ],
   "source": [
    "#Q3. Write a python program to convert the given list of integers into a tuple of strings. Use map and lambda functions\n",
    "#Given String: [1, 2, 3, 4, 5, 6, 7, 8, 9, 10]\n",
    "#Expected output: ('1', '2', '3', '4', '5', '6', '7', '8', '9', '10')\n",
    "\n",
    "mylist=[1, 2, 3, 4, 5, 6, 7, 8, 9, 10]\n",
    "\n",
    "mytuple = tuple(map(lambda x :str(x) ,mylist))\n",
    "\n",
    "print(mytuple)\n"
   ]
  },
  {
   "cell_type": "code",
   "execution_count": 34,
   "id": "d6c1f9af-5524-4178-acfb-f96f7e2bd376",
   "metadata": {},
   "outputs": [
    {
     "name": "stdout",
     "output_type": "stream",
     "text": [
      "620448401733239439360000\n"
     ]
    }
   ],
   "source": [
    "#Q4. Write a python program using reduce function to compute the product of a list containing numbers from 1 to 25.\n",
    "\n",
    "import functools\n",
    "l=[]\n",
    "for i in range(1,25):\n",
    "    l.append(i)\n",
    "    \n",
    "\n",
    "    product=functools.reduce(lambda x,y : x*y , l )\n",
    "print(product)\n",
    "    \n"
   ]
  },
  {
   "cell_type": "code",
   "execution_count": 36,
   "id": "a742f71b-0a7d-4383-b724-5498b53c3289",
   "metadata": {},
   "outputs": [
    {
     "name": "stdout",
     "output_type": "stream",
     "text": [
      "[6, 60, 90, 120]\n"
     ]
    }
   ],
   "source": [
    "#Q5. Write a python program to filter the numbers in a given list that are divisible by 2 and 3 using the\n",
    "#filter function. [2, 3, 6, 9, 27, 60, 90, 120, 55, 46]\n",
    "\n",
    "\n",
    "mylist= [2, 3, 6, 9, 27, 60, 90, 120, 55, 46]\n",
    "\n",
    "myfilter= list(filter(lambda x : x%2==0 and x%3==0, mylist))\n",
    "\n",
    "print(myfilter)"
   ]
  },
  {
   "cell_type": "code",
   "execution_count": 38,
   "id": "ff4d2b19-abe1-4614-aac5-d5be6086ab0e",
   "metadata": {},
   "outputs": [
    {
     "name": "stdout",
     "output_type": "stream",
     "text": [
      "['php', 'aba', 'radar', 'level']\n"
     ]
    }
   ],
   "source": [
    "#Q6. Write a python program to find palindromes in the given list of strings using lambda and filter\n",
    "#function. ['python', 'php', 'aba', 'radar', 'level']\n",
    "\n",
    "mylist= ['python', 'php', 'aba', 'radar', 'level']\n",
    "\n",
    "palindrome = list(filter(lambda x: (x == \"\".join(reversed(x))), mylist))\n",
    "\n",
    "print(palindrome)"
   ]
  }
 ],
 "metadata": {
  "kernelspec": {
   "display_name": "Python 3 (ipykernel)",
   "language": "python",
   "name": "python3"
  },
  "language_info": {
   "codemirror_mode": {
    "name": "ipython",
    "version": 3
   },
   "file_extension": ".py",
   "mimetype": "text/x-python",
   "name": "python",
   "nbconvert_exporter": "python",
   "pygments_lexer": "ipython3",
   "version": "3.10.8"
  }
 },
 "nbformat": 4,
 "nbformat_minor": 5
}
