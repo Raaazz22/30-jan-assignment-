{
 "cells": [
  {
   "cell_type": "code",
   "execution_count": null,
   "id": "3273aec4-5efc-4dee-af76-c03dff5e0727",
   "metadata": {},
   "outputs": [],
   "source": [
    "#Q1. Which function is used to open a file? What are the different modes of opening a file? Explain each mode\n",
    "#of file opening.\n",
    "\n",
    "\n",
    "#The key function for working with files in Python is the open() function.\n",
    "\n",
    "The open() function takes two parameters; filename, and mode.\n",
    "\n",
    "There are four different methods (modes) for opening a file:\n",
    "\n",
    "\"r\" - Read - Default value. Opens a file for reading, error if the file does not exist\n",
    "\n",
    "\"a\" - Append - Opens a file for appending, creates the file if it does not exist\n",
    "\n",
    "\"w\" - Write - Opens a file for writing, creates the file if it does not exist\n",
    "\n",
    "\"x\" - Create - Creates the specified file, returns an error if the file exists"
   ]
  },
  {
   "cell_type": "code",
   "execution_count": null,
   "id": "ec05cf33-9c86-4eb3-bb05-1a249977e3b6",
   "metadata": {},
   "outputs": [],
   "source": [
    "#Q2. Why close() function is used? Why is it important to close a file?\n",
    "\n",
    "The close() method closes an open file. You should always close your files, in some cases, due to buffering, \n",
    "changes made to a file may not show until you close the file."
   ]
  },
  {
   "cell_type": "code",
   "execution_count": 3,
   "id": "18a7d214-4ec0-4397-89d6-f5f7355e71f8",
   "metadata": {},
   "outputs": [],
   "source": [
    "#Q3. Write a python program to create a text file. Write ‘I want to become a Data Scientist’ in that file. Then\n",
    "#close the file. Open this file and read the content of the file.\n",
    "\n",
    "file1 = open(\"MyFile1.txt\",\"a\")\n",
    "\n",
    "file1.write(\"I want to become a Data Scientist\")\n",
    "\n",
    "file1.close()\n",
    "\n",
    "file1 = open(\"MyFile1.txt\",\"r\")\n",
    "\n",
    "\n"
   ]
  },
  {
   "cell_type": "code",
   "execution_count": null,
   "id": "2ff106a3-df3b-467e-82a5-c9e985049e67",
   "metadata": {},
   "outputs": [],
   "source": [
    "#Q4. Explain the following with python code: read(), readline() and readlines().\n",
    "\n",
    "Python readline() method will return a line from the file when called.\n",
    "\n",
    "file = open(\"filename.txt\", \"r\")\n",
    "file.readline()\n",
    "\n",
    "\n",
    "readlines() method will return all the lines in a file in the format of a list where each element is a line in the file.\n",
    "\n",
    "file = open(\"filename.txt\",\"r\")\n",
    "file.readlines()"
   ]
  },
  {
   "cell_type": "code",
   "execution_count": null,
   "id": "b0556ccd-d95b-4764-8982-957225989e7d",
   "metadata": {},
   "outputs": [],
   "source": [
    "#Q5. Explain why with statement is used with open(). What is the advantage of using with statement and\n",
    "#open() together?\n",
    "\n",
    "\n",
    "Unlike open() where you have to close the file with the close() method, the with statement closes the file for you \n",
    "without you telling it to. \n",
    "\n",
    "This is because the with statement calls 2 built-in methods behind the scene – __enter()__ and __exit()__ ."
   ]
  },
  {
   "cell_type": "code",
   "execution_count": null,
   "id": "663710df-2963-484c-80ca-bd24aa170f6c",
   "metadata": {},
   "outputs": [],
   "source": [
    "#Q6. Explain the write() and writelines() functions. Give a suitable example.\n",
    "\n",
    "\n",
    "#The write() function will write the content in the file without adding any extra characters.\n",
    "\n",
    "file = open(\"Employees.txt\", \"w\")\n",
    "  \n",
    "for i in range(3):\n",
    "   name = input(\"Enter the name of the employee: \")\n",
    "   file.write(name)\n",
    "   file.write(\"\\n\")\n",
    "     \n",
    "file.close()\n",
    "  \n",
    "print(\"Data is written into the file.\")\n",
    "\n",
    "#writelines() function -  This function writes the content of a list to a file.\n",
    "\n",
    "\n",
    "file1 = open(\"Employees.txt\", \"w\")\n",
    "lst = []\n",
    "for i in range(3):\n",
    "    name = input(\"Enter the name of the employee: \")\n",
    "    lst.append(name + '\\n')\n",
    "      \n",
    "file1.writelines(lst)\n",
    "file1.close()\n",
    "print(\"Data is written into the file.\") \n",
    "\n"
   ]
  }
 ],
 "metadata": {
  "kernelspec": {
   "display_name": "Python 3 (ipykernel)",
   "language": "python",
   "name": "python3"
  },
  "language_info": {
   "codemirror_mode": {
    "name": "ipython",
    "version": 3
   },
   "file_extension": ".py",
   "mimetype": "text/x-python",
   "name": "python",
   "nbconvert_exporter": "python",
   "pygments_lexer": "ipython3",
   "version": "3.10.8"
  }
 },
 "nbformat": 4,
 "nbformat_minor": 5
}
