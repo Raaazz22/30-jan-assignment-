{
 "cells": [
  {
   "cell_type": "code",
   "execution_count": null,
   "id": "c2989c94-5873-4480-a8e5-a1d5d3eccfa9",
   "metadata": {},
   "outputs": [],
   "source": [
    "Q1: Define overfitting and underfitting in machine learning. What are the consequences of each, and how\n",
    "can they be mitigated?\n",
    "\n",
    "Overfitting\n",
    "\n",
    "Overfitting occurs when our machine learning model tries to cover all the data points or more than the required data points present in the given dataset.\n",
    "The overfitted model has low bias and high variance.\n",
    "\n",
    "Underfitting\n",
    "\n",
    "Underfitting occurs when our machine learning model is not able to capture the underlying trend of the data. \n",
    "An underfitted model has high bias and low variance.\n"
   ]
  },
  {
   "cell_type": "code",
   "execution_count": null,
   "id": "bafa966a-7e56-4f28-ab7c-8672b5f646dc",
   "metadata": {},
   "outputs": [],
   "source": [
    "Q2: How can we reduce overfitting? Explain in brief.\n",
    "\n",
    "Cross-Validation\n",
    "Training with more data\n",
    "Removing features\n",
    "Early stopping the training\n",
    "Regularization\n",
    "Ensembling"
   ]
  },
  {
   "cell_type": "code",
   "execution_count": null,
   "id": "d7b65524-4e37-4a44-a36d-5a89a6de59dd",
   "metadata": {},
   "outputs": [],
   "source": [
    "Q3: Explain underfitting. List scenarios where underfitting can occur in ML.\n",
    "\n",
    "Underfitting\n",
    "\n",
    "Underfitting occurs when our machine learning model is not able to capture the underlying trend of the data. \n",
    "\n",
    "To avoid the overfitting in the model, the fed of training data can be stopped at an early stage, due to which the model \n",
    "may not learn enough from the training data. As a result, it may fail to find the best fit of the dominant trend in the data.\n",
    "\n",
    "In the case of underfitting, the model is not able to learn enough from the training data, and hence it reduces the \n",
    "accuracy and produces unreliable predictions."
   ]
  },
  {
   "cell_type": "code",
   "execution_count": null,
   "id": "8c267b12-12ff-4219-b1cc-04349d00c077",
   "metadata": {},
   "outputs": [],
   "source": [
    "Q4: Explain the bias-variance tradeoff in machine learning. What is the relationship between bias and\n",
    "variance, and how do they affect model performance?\n",
    "\n",
    "Bias\n",
    "\n",
    "While making predictions, a difference occurs between prediction values made by the model and actual values/expected values, and this difference is known as bias errors or Errors due to bias.\n",
    "Low Bias: A low bias model will make fewer assumptions about the form of the target function.\n",
    "\n",
    "High Bias: A model with a high bias makes more assumptions, and the model becomes unable to capture the important features of our dataset. A high bias model also cannot perform well on new data.\n",
    "\n",
    "Variance Error\n",
    "\n",
    "In simple words, variance tells that how much a random variable is different from its expected value. \n"
   ]
  },
  {
   "cell_type": "code",
   "execution_count": null,
   "id": "aa5d4c85-f4cc-45bb-8a76-e0a4e6486439",
   "metadata": {},
   "outputs": [],
   "source": [
    "Q5: Discuss some common methods for detecting overfitting and underfitting in machine learning models.\n",
    "How can you determine whether your model is overfitting or underfitting?\n",
    "\n",
    "Cross-Validation\n",
    "Training with more data\n",
    "Removing features\n",
    "Early stopping the training\n",
    "Regularization\n",
    "Ensembling"
   ]
  },
  {
   "cell_type": "code",
   "execution_count": null,
   "id": "281369d0-f721-4289-9bda-93c4e127722c",
   "metadata": {},
   "outputs": [],
   "source": [
    "Q6: Compare and contrast bias and variance in machine learning. What are some examples of high bias\n",
    "and high variance models, and how do they differ in terms of their performance?\n",
    "\n",
    "Bias\n",
    "\n",
    "While making predictions, a difference occurs between prediction values made by the model and actual values/expected values, and this difference is known as bias errors or Errors due to bias.\n",
    "Low Bias: A low bias model will make fewer assumptions about the form of the target function.\n",
    "\n",
    "High Bias: A model with a high bias makes more assumptions, and the model becomes unable to capture the important features of our dataset. A high bias model also cannot perform well on new data.\n",
    "\n",
    "Variance Error\n",
    "\n",
    "In simple words, variance tells that how much a random variable is different from its expected value. \n"
   ]
  },
  {
   "cell_type": "code",
   "execution_count": null,
   "id": "8b3ef937-ee82-429f-96e3-5ed557022fc2",
   "metadata": {},
   "outputs": [],
   "source": [
    "Q7: What is regularization in machine learning, and how can it be used to prevent overfitting? Describe\n",
    "some common regularization techniques and how they work.\n",
    "\n",
    " Regularization refers to techniques that are used to calibrate machine learning models in order to minimize the adjusted\n",
    "loss function and prevent overfitting or underfitting."
   ]
  }
 ],
 "metadata": {
  "kernelspec": {
   "display_name": "Python 3 (ipykernel)",
   "language": "python",
   "name": "python3"
  },
  "language_info": {
   "codemirror_mode": {
    "name": "ipython",
    "version": 3
   },
   "file_extension": ".py",
   "mimetype": "text/x-python",
   "name": "python",
   "nbconvert_exporter": "python",
   "pygments_lexer": "ipython3",
   "version": "3.10.8"
  }
 },
 "nbformat": 4,
 "nbformat_minor": 5
}
