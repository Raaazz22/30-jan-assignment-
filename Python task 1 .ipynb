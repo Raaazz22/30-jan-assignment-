{
 "cells": [
  {
   "cell_type": "code",
   "execution_count": 3,
   "id": "f2dba0b3-7ba3-4eed-9224-237cc2e9ba01",
   "metadata": {},
   "outputs": [
    {
     "name": "stdout",
     "output_type": "stream",
     "text": [
      "Flat List [1, 2, 3, 4, 44, 55, 66, True, False, (34, 56, 78, 89, 34), {1, 2, 3}, {1: 34, 'key2': [55, 67, 78, 89], 4: (45, 22, 61, 34)}, 56, 'data science', 'Machine Learning']\n"
     ]
    }
   ],
   "source": [
    "#Q1. Create a function which will take a list as an argument and return the product of all the numbers\n",
    "#after creating a flat list.\n",
    "#Use the below-given list as an argument for your function.\n",
    "#list1 = [1,2,3,4, [44,55,66, True], False, (34,56,78,89,34), {1,2,3,3,2,1}, {1:34, \"key2\": [55, 67, 78, 89], 4: (45,\n",
    "#22, 61, 34)}, [56, 'data science'], 'Machine Learning']\n",
    "\n",
    "list1 = [1,2,3,4, [44,55,66, True], False, (34,56,78,89,34), {1,2,3,3,2,1}, \n",
    "         {1:34, \"key2\": [55, 67, 78, 89], 4: (45,22, 61, 34)}, [56, 'data science'], 'Machine Learning']\n",
    "\n",
    "def flat(x):\n",
    "    l=[]\n",
    "    for i in x :\n",
    "        if type(i)==int:\n",
    "            l.append(i)\n",
    "                        \n",
    "        elif type(i)==bool:\n",
    "            l.append(i)\n",
    "            \n",
    "            \n",
    "        elif type(i)==list:\n",
    "            for j in i:\n",
    "                l.append(j)\n",
    "                            \n",
    "        elif type(i)==tuple:\n",
    "            for j in i:\n",
    "                l.append(j)\n",
    "                            \n",
    "        elif type(i)==set:\n",
    "            for j in i:\n",
    "                l.append(j)\n",
    "                                            \n",
    "        elif type(i)==dict:\n",
    "            for key in i:\n",
    "                l.append(key)\n",
    "            for value in i:\n",
    "                l.append(value)\n",
    "                \n",
    "    print(l)\n",
    "\n",
    "flat(list1)\n",
    "  "
   ]
  },
  {
   "cell_type": "code",
   "execution_count": 6,
   "id": "330cec07-0320-4093-8366-41e12e1f311f",
   "metadata": {},
   "outputs": [
    {
     "name": "stdin",
     "output_type": "stream",
     "text": [
      "Enter the message I want to become a Data Scientist\n"
     ]
    },
    {
     "name": "stdout",
     "output_type": "stream",
     "text": [
      "Your encoded message is  i$wznt$to$yezome$z$dztz$szientist\n"
     ]
    }
   ],
   "source": [
    "#Q2. Write a python program for encrypting a message sent to you by your friend. The logic of encryption\n",
    "#should be such that, for a the output should be z. For b, the output should be y. For c, the output should\n",
    "#be x respectively. Also, the whitespace should be replaced with a dollar sign. Keep the punctuation\n",
    "#marks unchanged.\n",
    "#Input Sentence: I want to become a Data Scientist.\n",
    "\n",
    "\n",
    "msg=input(\"Enter the message\")\n",
    "\n",
    "def encrypt(x):\n",
    "    y=x.lower()\n",
    "    \n",
    "    encode1=y.replace(\"a\", \"z\")\n",
    "    encode2=encode1.replace(\"b\",\"y\")\n",
    "    encode3=encode2.replace(\"c\",\"z\")\n",
    "    encode4=encode3.replace(\" \",\"$\")\n",
    "\n",
    "          \n",
    "    print(\"Your encoded message is \", encode4)\n",
    "\n",
    "\n",
    "encrypt(msg)"
   ]
  }
 ],
 "metadata": {
  "kernelspec": {
   "display_name": "Python 3 (ipykernel)",
   "language": "python",
   "name": "python3"
  },
  "language_info": {
   "codemirror_mode": {
    "name": "ipython",
    "version": 3
   },
   "file_extension": ".py",
   "mimetype": "text/x-python",
   "name": "python",
   "nbconvert_exporter": "python",
   "pygments_lexer": "ipython3",
   "version": "3.10.8"
  }
 },
 "nbformat": 4,
 "nbformat_minor": 5
}
