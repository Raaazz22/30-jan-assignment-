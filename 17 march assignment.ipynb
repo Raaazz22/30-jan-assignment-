{
 "cells": [
  {
   "cell_type": "code",
   "execution_count": null,
   "id": "3328fe1f-9327-45eb-b6c9-2a99e18a5597",
   "metadata": {},
   "outputs": [],
   "source": [
    "Q1: What are missing values in a dataset? Why is it essential to handle missing values? Name some\n",
    "algorithms that are not affected by missing values.\n",
    "\n",
    "Missing values occurs in dataset when some of the informations is not stored for a variable ."
   ]
  },
  {
   "cell_type": "code",
   "execution_count": null,
   "id": "dd0e7ece-3d88-4595-945f-56dc1d08b2fc",
   "metadata": {},
   "outputs": [],
   "source": [
    "Q2: List down techniques used to handle missing data. Give an example of each with python code.\n",
    "\n",
    "The handling missing data techniques are\n",
    "\n",
    "Acceptance\n",
    "deletion\n",
    "imputation\n",
    "\n",
    "df[df['embarked'].isnull()]\n",
    "df['embarked'].unique()\n",
    "df[df['age'].notna()]['embarked'].mode()[0]\n",
    "mode=df[df['age'].notna()]['embarked'].mode()[0]\n",
    "df['embarked_mode']=df['embarked'].fillna(mode)\n",
    "df[['embarked_mode','embarked']]\n"
   ]
  },
  {
   "cell_type": "code",
   "execution_count": null,
   "id": "fb09be5e-95d3-4698-ade8-523dc43c6403",
   "metadata": {},
   "outputs": [],
   "source": [
    "Q3: Explain the imbalanced data. What will happen if imbalanced data is not handled?\n",
    "\n",
    "The dataset imbalance is common in classification problems.\n",
    "\n",
    "Imbalanced Dataset “also called an unbalanced dataset ” refer to datasets where the observations or target class is skewed or \n",
    "has uneven distribution. This means that one class label has a very fewer number of observations and the other has very high \n",
    "numbers of observations. \n",
    "\n",
    "Classes that make up a large proportion of the data set are called majority classes. \n",
    "\n",
    "Those that make up a smaller proportion are minority classes.\n"
   ]
  },
  {
   "cell_type": "code",
   "execution_count": null,
   "id": "aa493a8c-0456-4eef-bf14-b24d5c67ab35",
   "metadata": {},
   "outputs": [],
   "source": [
    "Q4: What are Up-sampling and Down-sampling? Explain with an example when up-sampling and down-\n",
    "sampling are required.\n",
    "\n",
    "Over Sampling ( converting minority class number is equal to majority class number).\n",
    "\n",
    "Under Sampling ( converting the majority class number is equal to minority class number).\n",
    "\n",
    "\n",
    "Under Sampling Techniques:\n",
    "1.\tRandom Oversampling.\n",
    "2.\tCluster centroids.\n",
    "3.\tTomek links.\n"
   ]
  },
  {
   "cell_type": "code",
   "execution_count": null,
   "id": "3181477c-d514-47d7-86c8-4bb28a806e55",
   "metadata": {},
   "outputs": [],
   "source": [
    "Q5: What is data Augmentation? Explain SMOTE.\n",
    "\n",
    "Data augmentation is a technique of artificially increasing the training set by creating modified copies of a dataset using existing data. \n",
    "\n",
    "SMOTE (Synthetic Minority Over-sampling Technique) is a technique used in machine learning to address imbalanced datasets \n",
    "where the minority class has significantly fewer instances than the majority class. SMOTE involves generating synthetic \n",
    "instances of the minority class by interpolating between existing instances."
   ]
  },
  {
   "cell_type": "code",
   "execution_count": null,
   "id": "89044264-a967-477c-8d9e-4938262e1f05",
   "metadata": {},
   "outputs": [],
   "source": [
    "Q6: What are outliers in a dataset? Why is it essential to handle outliers?\n",
    "\n",
    "In statistics, an outlier is an observation point that is distant from other observations\n",
    "\n",
    "Handling outliers – \n",
    "For handling outliers find\n",
    "1.\tMinimum Value\n",
    "2.\tQ1- 25 percentile\n",
    "3.\tMedian\n",
    "4.\tQ3- 75 percentile\n",
    "5.\tMaximum\n"
   ]
  },
  {
   "cell_type": "code",
   "execution_count": null,
   "id": "51949c25-c42a-4777-a8a4-0dfb07437abf",
   "metadata": {},
   "outputs": [],
   "source": [
    "Q7: You are working on a project that requires analyzing customer data. However, you notice that some of\n",
    "the data is missing. What are some techniques you can use to handle the missing data in your analysis?\n",
    "\n",
    "The handling missing data techniques are\n",
    "\n",
    "Acceptance\n",
    "deletion\n",
    "imputation\n"
   ]
  },
  {
   "cell_type": "code",
   "execution_count": null,
   "id": "70d3e530-e5cd-4daa-b8a3-02d626e05088",
   "metadata": {},
   "outputs": [],
   "source": [
    "Q8: You are working with a large dataset and find that a small percentage of the data is missing. What are\n",
    "some strategies you can use to determine if the missing data is missing at random or if there is a pattern\n",
    "to the missing data?\n",
    "\n",
    "The handling missing data techniques are\n",
    "\n",
    "Acceptance\n",
    "deletion\n",
    "imputation\n"
   ]
  },
  {
   "cell_type": "code",
   "execution_count": null,
   "id": "cff53c86-9710-4116-9bb0-cfa4f96bb70b",
   "metadata": {},
   "outputs": [],
   "source": [
    "Q9: Suppose you are working on a medical diagnosis project and find that the majority of patients in the\n",
    "dataset do not have the condition of interest, while a small percentage do. What are some strategies you\n",
    "can use to evaluate the performance of your machine learning model on this imbalanced dataset?\n",
    "\n",
    "We handling missing data by-\n",
    "\n",
    "\n",
    "imputation"
   ]
  },
  {
   "cell_type": "code",
   "execution_count": null,
   "id": "2e5287f2-996a-455c-87a9-2662c9441a6a",
   "metadata": {},
   "outputs": [],
   "source": [
    "Q10: When attempting to estimate customer satisfaction for a project, you discover that the dataset is\n",
    "unbalanced, with the bulk of customers reporting being satisfied. What methods can you employ to\n",
    "balance the dataset and down-sample the majority class?\n",
    "\n",
    "Over Sampling ( converting minority class number is equal to majority class number).\n",
    "\n",
    "Under Sampling ( converting the majority class number is equal to minority class number).\n"
   ]
  },
  {
   "cell_type": "code",
   "execution_count": null,
   "id": "b4a65bc3-f402-44c6-b60c-471b5114516b",
   "metadata": {},
   "outputs": [],
   "source": [
    "Q11: You discover that the dataset is unbalanced with a low percentage of occurrences while working on a\n",
    "project that requires you to estimate the occurrence of a rare event. What methods can you employ to\n",
    "balance the dataset and up-sample the minority class?\n",
    "\n",
    "we use SMOTE\n",
    "\n",
    "SMOTE (Synthetic Minority Over-sampling Technique) is a technique used in machine learning to address imbalanced datasets \n",
    "where the minority class has significantly fewer instances than the majority class. \n",
    "\n",
    "SMOTE involves generating synthetic instances of the minority class by interpolating between existing instances."
   ]
  }
 ],
 "metadata": {
  "kernelspec": {
   "display_name": "Python 3 (ipykernel)",
   "language": "python",
   "name": "python3"
  },
  "language_info": {
   "codemirror_mode": {
    "name": "ipython",
    "version": 3
   },
   "file_extension": ".py",
   "mimetype": "text/x-python",
   "name": "python",
   "nbconvert_exporter": "python",
   "pygments_lexer": "ipython3",
   "version": "3.10.8"
  }
 },
 "nbformat": 4,
 "nbformat_minor": 5
}
