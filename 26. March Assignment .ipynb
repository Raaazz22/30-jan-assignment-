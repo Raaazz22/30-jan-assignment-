{
 "cells": [
  {
   "cell_type": "markdown",
   "id": "3537ed66-caee-4387-a022-8cd30ceb7075",
   "metadata": {},
   "source": [
    "Q1. Explain the difference between simple linear regression and multiple linear regression. Provide an\n",
    "example of each."
   ]
  },
  {
   "cell_type": "code",
   "execution_count": null,
   "id": "4d8fd2e1-a7e5-484e-a03e-4c511e2a7f11",
   "metadata": {},
   "outputs": [],
   "source": [
    "Simple linear regression has only one x and one y variable. Multiple linear regression has one y and two or more x variables\n",
    "\n",
    "Example for simple linear regression - Predictions of height using the weight of the person..\n",
    "Example for miltiple linear regression - Predictions of house price using the number of rooms and location."
   ]
  },
  {
   "cell_type": "markdown",
   "id": "a7eb0469-a06a-4e85-a5d5-5c6e736f5f60",
   "metadata": {},
   "source": [
    "Q2. Discuss the assumptions of linear regression. How can you check whether these assumptions hold in\n",
    "a given dataset?"
   ]
  },
  {
   "cell_type": "code",
   "execution_count": null,
   "id": "ade8bfcd-f77f-48d6-806e-88f72edb6342",
   "metadata": {},
   "outputs": [],
   "source": [
    "Linearity: The relationship between the dependent and independent variables is linear.\n",
    "Independence: The observations are independent of each other.\n",
    "Homoscedasticity: The variance of the errors is constant across all levels of the independent variables.\n",
    "Normality: The errors follow a normal distribution.\n",
    "No multicollinearity: The independent variables are not highly correlated with each other.\n",
    "No endogeneity: There is no relationship between the errors and the independent variables."
   ]
  },
  {
   "cell_type": "markdown",
   "id": "ff308ee0-3281-4486-bf54-7a7a4df96a52",
   "metadata": {},
   "source": [
    "Q3. How do you interpret the slope and intercept in a linear regression model? Provide an example using\n",
    "a real-world scenario."
   ]
  },
  {
   "cell_type": "code",
   "execution_count": null,
   "id": "7baab98f-e42c-4cd0-b0de-7d26f0688d9c",
   "metadata": {},
   "outputs": [],
   "source": [
    "The slope indicates the steepness of a line and the intercept indicates the location where it intersects an axis. \n",
    "The slope and the intercept define the linear relationship between two variables, and can be used to estimate an average rate of change."
   ]
  },
  {
   "cell_type": "markdown",
   "id": "db5e48ae-083a-4c80-ae68-c941a5a66e81",
   "metadata": {},
   "source": [
    "Q4. Explain the concept of gradient descent. How is it used in machine learning?"
   ]
  },
  {
   "cell_type": "code",
   "execution_count": null,
   "id": "aee0a600-abe7-40f2-93ea-c6be21791295",
   "metadata": {},
   "outputs": [],
   "source": [
    "Gradient Descent is an optimization algorithm for finding a local minimum of a differentiable function. \n",
    "Gradient descent in machine learning is simply used to\n",
    "find the values of a function's parameters (coefficients) that minimize a cost function as far as possible."
   ]
  },
  {
   "cell_type": "markdown",
   "id": "527ef184-7921-4abd-a338-24d0a1f389bc",
   "metadata": {},
   "source": [
    "Q5. Describe the multiple linear regression mod|el. How does it differ from simple linear regression?"
   ]
  },
  {
   "cell_type": "code",
   "execution_count": null,
   "id": "8cbee420-bb7c-475a-bb81-252d9f522348",
   "metadata": {},
   "outputs": [],
   "source": [
    "Multiple regression is a broader class of regressions that encompasses linear and nonlinear regressions with \n",
    "multiple explanatory variables. Whereas linear regress only has one independent variable impacting the slope of the \n",
    "relationship, multiple regression incorporates multiple independent variables."
   ]
  },
  {
   "cell_type": "markdown",
   "id": "6bfd795f-64c3-4937-bfc8-0915e8624bce",
   "metadata": {},
   "source": [
    "Q6. Explain the concept of multicollinearity in multiple linear regression. How can you detect and\n",
    "address this issue?"
   ]
  },
  {
   "cell_type": "code",
   "execution_count": null,
   "id": "68ccbb92-c6ce-4e48-9bbb-c69d23ade0aa",
   "metadata": {},
   "outputs": [],
   "source": [
    "Multicollinearity happens when independent variables in the regression model are highly correlated to each other. \n",
    "It makes it hard to interpret of model and also creates an overfitting problem. \n",
    "It is a common assumption that people test before selecting the variables into the regression model."
   ]
  },
  {
   "cell_type": "markdown",
   "id": "0084527a-d310-4169-bfc9-68a26be5b09b",
   "metadata": {},
   "source": [
    "Q7. Describe the polynomial regression model. How is it different from linear regression?"
   ]
  },
  {
   "cell_type": "code",
   "execution_count": null,
   "id": "71eb11ea-eea0-45ff-8110-552130d324ae",
   "metadata": {},
   "outputs": [],
   "source": [
    "A polynomial regression model is a machine learning model that can capture non-linear relationships between variables by \n",
    "fitting a non-linear regression line, which may not be possible with simple linear regression.\n",
    "It is used when linear regression models may not adequately capture the complexity of the relationship."
   ]
  },
  {
   "cell_type": "markdown",
   "id": "010aa8b3-b85a-4a9d-bb8a-8568109db8b2",
   "metadata": {},
   "source": [
    "Q8. What are the advantages and disadvantages of polynomial regression compared to linear\n",
    "regression? In what situations would you prefer to use polynomial regression?"
   ]
  },
  {
   "cell_type": "code",
   "execution_count": null,
   "id": "e3523585-7572-4214-ba3f-34f10008859d",
   "metadata": {},
   "outputs": [],
   "source": [
    "You can model non-linear relationships between variables.\n",
    "There is a large range of different functions that you can use for fitting.\n",
    "Good for exploration purposes: you can test for the presence of curvature and its inflections."
   ]
  }
 ],
 "metadata": {
  "kernelspec": {
   "display_name": "Python 3 (ipykernel)",
   "language": "python",
   "name": "python3"
  },
  "language_info": {
   "codemirror_mode": {
    "name": "ipython",
    "version": 3
   },
   "file_extension": ".py",
   "mimetype": "text/x-python",
   "name": "python",
   "nbconvert_exporter": "python",
   "pygments_lexer": "ipython3",
   "version": "3.10.8"
  }
 },
 "nbformat": 4,
 "nbformat_minor": 5
}
