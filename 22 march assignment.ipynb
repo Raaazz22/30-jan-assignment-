{
 "cells": [
  {
   "cell_type": "code",
   "execution_count": 8,
   "id": "f163509b-ee56-4cfd-ab03-6035601686e0",
   "metadata": {},
   "outputs": [
    {
     "data": {
      "text/html": [
       "<div>\n",
       "<style scoped>\n",
       "    .dataframe tbody tr th:only-of-type {\n",
       "        vertical-align: middle;\n",
       "    }\n",
       "\n",
       "    .dataframe tbody tr th {\n",
       "        vertical-align: top;\n",
       "    }\n",
       "\n",
       "    .dataframe thead th {\n",
       "        text-align: right;\n",
       "    }\n",
       "</style>\n",
       "<table border=\"1\" class=\"dataframe\">\n",
       "  <thead>\n",
       "    <tr style=\"text-align: right;\">\n",
       "      <th></th>\n",
       "      <th>time_spend</th>\n",
       "      <th>score</th>\n",
       "    </tr>\n",
       "  </thead>\n",
       "  <tbody>\n",
       "    <tr>\n",
       "      <th>time_spend</th>\n",
       "      <td>1.000000</td>\n",
       "      <td>0.539751</td>\n",
       "    </tr>\n",
       "    <tr>\n",
       "      <th>score</th>\n",
       "      <td>0.539751</td>\n",
       "      <td>1.000000</td>\n",
       "    </tr>\n",
       "  </tbody>\n",
       "</table>\n",
       "</div>"
      ],
      "text/plain": [
       "            time_spend     score\n",
       "time_spend    1.000000  0.539751\n",
       "score         0.539751  1.000000"
      ]
     },
     "execution_count": 8,
     "metadata": {},
     "output_type": "execute_result"
    }
   ],
   "source": [
    "#Q1. Pearson correlation coefficient is a measure of the linear relationship between two variables. Suppose\n",
    "#you have collected data on the amount of time students spend studying for an exam and their final exam\n",
    "#scores. Calculate the Pearson correlation coefficient between these two variables and interpret the result.\n",
    "\n",
    "\n",
    "time_spend = [2,3,5,5,6,7]\n",
    "score = [20,25,40,35,14,4]\n",
    "\n",
    "import pandas as pd\n",
    "\n",
    "df = pd.DataFrame()\n",
    "\n",
    "df['time_spend'] = [8,7,6,7,8,5,4,7,8]\n",
    "df['score'] = [7,6,8,6,8,6,6,7,8]\n",
    "\n",
    "df.corr(method = 'pearson')"
   ]
  },
  {
   "cell_type": "code",
   "execution_count": 6,
   "id": "be40990a-750a-4386-9dd5-c5ae8f6f46b1",
   "metadata": {},
   "outputs": [
    {
     "data": {
      "text/html": [
       "<div>\n",
       "<style scoped>\n",
       "    .dataframe tbody tr th:only-of-type {\n",
       "        vertical-align: middle;\n",
       "    }\n",
       "\n",
       "    .dataframe tbody tr th {\n",
       "        vertical-align: top;\n",
       "    }\n",
       "\n",
       "    .dataframe thead th {\n",
       "        text-align: right;\n",
       "    }\n",
       "</style>\n",
       "<table border=\"1\" class=\"dataframe\">\n",
       "  <thead>\n",
       "    <tr style=\"text-align: right;\">\n",
       "      <th></th>\n",
       "      <th>sleep</th>\n",
       "      <th>satisfaction</th>\n",
       "    </tr>\n",
       "  </thead>\n",
       "  <tbody>\n",
       "    <tr>\n",
       "      <th>sleep</th>\n",
       "      <td>1.000000</td>\n",
       "      <td>0.571726</td>\n",
       "    </tr>\n",
       "    <tr>\n",
       "      <th>satisfaction</th>\n",
       "      <td>0.571726</td>\n",
       "      <td>1.000000</td>\n",
       "    </tr>\n",
       "  </tbody>\n",
       "</table>\n",
       "</div>"
      ],
      "text/plain": [
       "                 sleep  satisfaction\n",
       "sleep         1.000000      0.571726\n",
       "satisfaction  0.571726      1.000000"
      ]
     },
     "execution_count": 6,
     "metadata": {},
     "output_type": "execute_result"
    }
   ],
   "source": [
    "#Q2. Spearman's rank correlation is a measure of the monotonic relationship between two variables.\n",
    "#Suppose you have collected data on the amount of sleep individuals get each night and their overall job\n",
    "#satisfaction level on a scale of 1 to 10. Calculate the Spearman's rank correlation between these two\n",
    "#variables and interpret the result.\n",
    "\n",
    "import pandas as pd\n",
    "\n",
    "df = pd.DataFrame()\n",
    "\n",
    "df['sleep'] = [8,7,6,7,8,5,4,7,8]\n",
    "df['satisfaction'] = [7,6,8,6,8,6,6,7,8]\n",
    "\n",
    "df.corr(method = 'spearman')"
   ]
  },
  {
   "cell_type": "code",
   "execution_count": 26,
   "id": "79e2308f-9250-4dc5-9607-893e0313f915",
   "metadata": {},
   "outputs": [
    {
     "data": {
      "text/html": [
       "<div>\n",
       "<style scoped>\n",
       "    .dataframe tbody tr th:only-of-type {\n",
       "        vertical-align: middle;\n",
       "    }\n",
       "\n",
       "    .dataframe tbody tr th {\n",
       "        vertical-align: top;\n",
       "    }\n",
       "\n",
       "    .dataframe thead th {\n",
       "        text-align: right;\n",
       "    }\n",
       "</style>\n",
       "<table border=\"1\" class=\"dataframe\">\n",
       "  <thead>\n",
       "    <tr style=\"text-align: right;\">\n",
       "      <th></th>\n",
       "      <th>exercise_hours</th>\n",
       "      <th>bmi</th>\n",
       "    </tr>\n",
       "  </thead>\n",
       "  <tbody>\n",
       "    <tr>\n",
       "      <th>exercise_hours</th>\n",
       "      <td>1.000000</td>\n",
       "      <td>-0.310278</td>\n",
       "    </tr>\n",
       "    <tr>\n",
       "      <th>bmi</th>\n",
       "      <td>-0.310278</td>\n",
       "      <td>1.000000</td>\n",
       "    </tr>\n",
       "  </tbody>\n",
       "</table>\n",
       "</div>"
      ],
      "text/plain": [
       "                exercise_hours       bmi\n",
       "exercise_hours        1.000000 -0.310278\n",
       "bmi                  -0.310278  1.000000"
      ]
     },
     "execution_count": 26,
     "metadata": {},
     "output_type": "execute_result"
    }
   ],
   "source": [
    "#Q3. Suppose you are conducting a study to examine the relationship between the number of hours of\n",
    "#exercise per week and body mass index (BMI) in a sample of adults. You collected data on both variables\n",
    "#for 50 participants. Calculate the Pearson correlation coefficient and the Spearman's rank correlation\n",
    "#between these two variables and compare the results.\n",
    "\n",
    "import pandas as pd\n",
    "import random\n",
    "\n",
    "exercise_hours = []\n",
    "bmi = []\n",
    "\n",
    "for i in range (0,50) :\n",
    "    a = random.randint(1,7)\n",
    "    exercise_hours.append(a)\n",
    "    \n",
    "for i in range (0,50) :\n",
    "    a = random.randint(18,24)\n",
    "    bmi.append(a)\n",
    "    \n",
    "df = pd.DataFrame()\n",
    "df['exercise_hours'] = exercise_hours\n",
    "df['bmi'] = bmi\n",
    "\n",
    "df.corr(method = 'pearson')\n"
   ]
  },
  {
   "cell_type": "code",
   "execution_count": 28,
   "id": "e7347197-7899-4444-ba10-752e1753015f",
   "metadata": {},
   "outputs": [
    {
     "data": {
      "text/html": [
       "<div>\n",
       "<style scoped>\n",
       "    .dataframe tbody tr th:only-of-type {\n",
       "        vertical-align: middle;\n",
       "    }\n",
       "\n",
       "    .dataframe tbody tr th {\n",
       "        vertical-align: top;\n",
       "    }\n",
       "\n",
       "    .dataframe thead th {\n",
       "        text-align: right;\n",
       "    }\n",
       "</style>\n",
       "<table border=\"1\" class=\"dataframe\">\n",
       "  <thead>\n",
       "    <tr style=\"text-align: right;\">\n",
       "      <th></th>\n",
       "      <th>watching_tv</th>\n",
       "      <th>physical_activity</th>\n",
       "    </tr>\n",
       "  </thead>\n",
       "  <tbody>\n",
       "    <tr>\n",
       "      <th>watching_tv</th>\n",
       "      <td>1.000000</td>\n",
       "      <td>-0.205557</td>\n",
       "    </tr>\n",
       "    <tr>\n",
       "      <th>physical_activity</th>\n",
       "      <td>-0.205557</td>\n",
       "      <td>1.000000</td>\n",
       "    </tr>\n",
       "  </tbody>\n",
       "</table>\n",
       "</div>"
      ],
      "text/plain": [
       "                   watching_tv  physical_activity\n",
       "watching_tv           1.000000          -0.205557\n",
       "physical_activity    -0.205557           1.000000"
      ]
     },
     "execution_count": 28,
     "metadata": {},
     "output_type": "execute_result"
    }
   ],
   "source": [
    "#Q4. A researcher is interested in examining the relationship between the number of hours individuals\n",
    "#spend watching television per day and their level of physical activity. The researcher collected data on\n",
    "#both variables from a sample of 50 participants. Calculate the Pearson correlation coefficient between\n",
    "#these two variables.\n",
    "\n",
    "import pandas as pd\n",
    "import random\n",
    "\n",
    "watching_tv = []\n",
    "physical_activity = []\n",
    "\n",
    "for i in range (0,50) :\n",
    "    a = random.randint(1,7)\n",
    "    watching_tv.append(a)\n",
    "    \n",
    "for i in range (0,50) :\n",
    "    a = random.randint(0,3)\n",
    "    physical_activity.append(a)\n",
    "    \n",
    "df = pd.DataFrame()\n",
    "df['watching_tv'] = watching_tv\n",
    "df['physical_activity'] = physical_activity\n",
    "\n",
    "df.corr(method = 'pearson')"
   ]
  },
  {
   "cell_type": "code",
   "execution_count": 32,
   "id": "2d8ca73f-f97d-460c-9d46-71ae6203d320",
   "metadata": {},
   "outputs": [
    {
     "ename": "KeyError",
     "evalue": "\"None of [Index(['coke', 'pepsi', 'mountain dew', 'coke', 'pepsi', 'mountain dew'], dtype='object')] are in the [columns]\"",
     "output_type": "error",
     "traceback": [
      "\u001b[0;31m---------------------------------------------------------------------------\u001b[0m",
      "\u001b[0;31mKeyError\u001b[0m                                  Traceback (most recent call last)",
      "Cell \u001b[0;32mIn[32], line 16\u001b[0m\n\u001b[1;32m     13\u001b[0m df[\u001b[38;5;124m'\u001b[39m\u001b[38;5;124mage\u001b[39m\u001b[38;5;124m'\u001b[39m] \u001b[38;5;241m=\u001b[39m age\n\u001b[1;32m     15\u001b[0m ohe \u001b[38;5;241m=\u001b[39m OneHotEncoder()\n\u001b[0;32m---> 16\u001b[0m transformed \u001b[38;5;241m=\u001b[39m ohe\u001b[38;5;241m.\u001b[39mfit_transform(\u001b[43mdf\u001b[49m\u001b[43m[\u001b[49m\u001b[43mpreference\u001b[49m\u001b[43m]\u001b[49m)\n",
      "File \u001b[0;32m/opt/conda/lib/python3.10/site-packages/pandas/core/frame.py:3811\u001b[0m, in \u001b[0;36mDataFrame.__getitem__\u001b[0;34m(self, key)\u001b[0m\n\u001b[1;32m   3809\u001b[0m     \u001b[38;5;28;01mif\u001b[39;00m is_iterator(key):\n\u001b[1;32m   3810\u001b[0m         key \u001b[38;5;241m=\u001b[39m \u001b[38;5;28mlist\u001b[39m(key)\n\u001b[0;32m-> 3811\u001b[0m     indexer \u001b[38;5;241m=\u001b[39m \u001b[38;5;28;43mself\u001b[39;49m\u001b[38;5;241;43m.\u001b[39;49m\u001b[43mcolumns\u001b[49m\u001b[38;5;241;43m.\u001b[39;49m\u001b[43m_get_indexer_strict\u001b[49m\u001b[43m(\u001b[49m\u001b[43mkey\u001b[49m\u001b[43m,\u001b[49m\u001b[43m \u001b[49m\u001b[38;5;124;43m\"\u001b[39;49m\u001b[38;5;124;43mcolumns\u001b[39;49m\u001b[38;5;124;43m\"\u001b[39;49m\u001b[43m)\u001b[49m[\u001b[38;5;241m1\u001b[39m]\n\u001b[1;32m   3813\u001b[0m \u001b[38;5;66;03m# take() does not accept boolean indexers\u001b[39;00m\n\u001b[1;32m   3814\u001b[0m \u001b[38;5;28;01mif\u001b[39;00m \u001b[38;5;28mgetattr\u001b[39m(indexer, \u001b[38;5;124m\"\u001b[39m\u001b[38;5;124mdtype\u001b[39m\u001b[38;5;124m\"\u001b[39m, \u001b[38;5;28;01mNone\u001b[39;00m) \u001b[38;5;241m==\u001b[39m \u001b[38;5;28mbool\u001b[39m:\n",
      "File \u001b[0;32m/opt/conda/lib/python3.10/site-packages/pandas/core/indexes/base.py:6113\u001b[0m, in \u001b[0;36mIndex._get_indexer_strict\u001b[0;34m(self, key, axis_name)\u001b[0m\n\u001b[1;32m   6110\u001b[0m \u001b[38;5;28;01melse\u001b[39;00m:\n\u001b[1;32m   6111\u001b[0m     keyarr, indexer, new_indexer \u001b[38;5;241m=\u001b[39m \u001b[38;5;28mself\u001b[39m\u001b[38;5;241m.\u001b[39m_reindex_non_unique(keyarr)\n\u001b[0;32m-> 6113\u001b[0m \u001b[38;5;28;43mself\u001b[39;49m\u001b[38;5;241;43m.\u001b[39;49m\u001b[43m_raise_if_missing\u001b[49m\u001b[43m(\u001b[49m\u001b[43mkeyarr\u001b[49m\u001b[43m,\u001b[49m\u001b[43m \u001b[49m\u001b[43mindexer\u001b[49m\u001b[43m,\u001b[49m\u001b[43m \u001b[49m\u001b[43maxis_name\u001b[49m\u001b[43m)\u001b[49m\n\u001b[1;32m   6115\u001b[0m keyarr \u001b[38;5;241m=\u001b[39m \u001b[38;5;28mself\u001b[39m\u001b[38;5;241m.\u001b[39mtake(indexer)\n\u001b[1;32m   6116\u001b[0m \u001b[38;5;28;01mif\u001b[39;00m \u001b[38;5;28misinstance\u001b[39m(key, Index):\n\u001b[1;32m   6117\u001b[0m     \u001b[38;5;66;03m# GH 42790 - Preserve name from an Index\u001b[39;00m\n",
      "File \u001b[0;32m/opt/conda/lib/python3.10/site-packages/pandas/core/indexes/base.py:6173\u001b[0m, in \u001b[0;36mIndex._raise_if_missing\u001b[0;34m(self, key, indexer, axis_name)\u001b[0m\n\u001b[1;32m   6171\u001b[0m     \u001b[38;5;28;01mif\u001b[39;00m use_interval_msg:\n\u001b[1;32m   6172\u001b[0m         key \u001b[38;5;241m=\u001b[39m \u001b[38;5;28mlist\u001b[39m(key)\n\u001b[0;32m-> 6173\u001b[0m     \u001b[38;5;28;01mraise\u001b[39;00m \u001b[38;5;167;01mKeyError\u001b[39;00m(\u001b[38;5;124mf\u001b[39m\u001b[38;5;124m\"\u001b[39m\u001b[38;5;124mNone of [\u001b[39m\u001b[38;5;132;01m{\u001b[39;00mkey\u001b[38;5;132;01m}\u001b[39;00m\u001b[38;5;124m] are in the [\u001b[39m\u001b[38;5;132;01m{\u001b[39;00maxis_name\u001b[38;5;132;01m}\u001b[39;00m\u001b[38;5;124m]\u001b[39m\u001b[38;5;124m\"\u001b[39m)\n\u001b[1;32m   6175\u001b[0m not_found \u001b[38;5;241m=\u001b[39m \u001b[38;5;28mlist\u001b[39m(ensure_index(key)[missing_mask\u001b[38;5;241m.\u001b[39mnonzero()[\u001b[38;5;241m0\u001b[39m]]\u001b[38;5;241m.\u001b[39munique())\n\u001b[1;32m   6176\u001b[0m \u001b[38;5;28;01mraise\u001b[39;00m \u001b[38;5;167;01mKeyError\u001b[39;00m(\u001b[38;5;124mf\u001b[39m\u001b[38;5;124m\"\u001b[39m\u001b[38;5;132;01m{\u001b[39;00mnot_found\u001b[38;5;132;01m}\u001b[39;00m\u001b[38;5;124m not in index\u001b[39m\u001b[38;5;124m\"\u001b[39m)\n",
      "\u001b[0;31mKeyError\u001b[0m: \"None of [Index(['coke', 'pepsi', 'mountain dew', 'coke', 'pepsi', 'mountain dew'], dtype='object')] are in the [columns]\""
     ]
    }
   ],
   "source": [
    "#Q5. A survey was conducted to examine the relationship between age and preference for a particular\n",
    "#brand of soft drink. The survey results are shown below:\n",
    "\n",
    "\n",
    "age = [25,42,37,19,31,28]\n",
    "preference = ['coke','pepsi' ,'mountain dew' , 'coke' , 'pepsi' , 'mountain dew']\n",
    "\n",
    "# One-hot encoding a single column\n",
    "from sklearn.preprocessing import OneHotEncoder\n",
    "from seaborn import load_dataset\n",
    "import pandas as pd\n",
    "df = pd.DataFrame(preference)\n",
    "df['age'] = age\n",
    "\n",
    "ohe = OneHotEncoder()\n",
    "transformed = ohe.fit_transform(df[preference])\n",
    "\n",
    "df['transfromed'] = transformed\n",
    "\n",
    "df.corr(method = 'pearson')"
   ]
  },
  {
   "cell_type": "code",
   "execution_count": 37,
   "id": "205fcce2-41b1-4eda-aa74-e4b1e1495150",
   "metadata": {},
   "outputs": [
    {
     "data": {
      "text/html": [
       "<div>\n",
       "<style scoped>\n",
       "    .dataframe tbody tr th:only-of-type {\n",
       "        vertical-align: middle;\n",
       "    }\n",
       "\n",
       "    .dataframe tbody tr th {\n",
       "        vertical-align: top;\n",
       "    }\n",
       "\n",
       "    .dataframe thead th {\n",
       "        text-align: right;\n",
       "    }\n",
       "</style>\n",
       "<table border=\"1\" class=\"dataframe\">\n",
       "  <thead>\n",
       "    <tr style=\"text-align: right;\">\n",
       "      <th></th>\n",
       "      <th>sales_call</th>\n",
       "      <th>sale_made</th>\n",
       "    </tr>\n",
       "  </thead>\n",
       "  <tbody>\n",
       "    <tr>\n",
       "      <th>sales_call</th>\n",
       "      <td>1.000000</td>\n",
       "      <td>-0.033532</td>\n",
       "    </tr>\n",
       "    <tr>\n",
       "      <th>sale_made</th>\n",
       "      <td>-0.033532</td>\n",
       "      <td>1.000000</td>\n",
       "    </tr>\n",
       "  </tbody>\n",
       "</table>\n",
       "</div>"
      ],
      "text/plain": [
       "            sales_call  sale_made\n",
       "sales_call    1.000000  -0.033532\n",
       "sale_made    -0.033532   1.000000"
      ]
     },
     "execution_count": 37,
     "metadata": {},
     "output_type": "execute_result"
    }
   ],
   "source": [
    "#Q6. A company is interested in examining the relationship between the number of sales calls made per day\n",
    "#and the number of sales made per week. The company collected data on both variables from a sample of\n",
    "#30 sales representatives. Calculate the Pearson correlation coefficient between these two variables.\n",
    "\n",
    "import pandas as pd\n",
    "import random\n",
    "\n",
    "sales_call = []\n",
    "sale_made = []\n",
    "\n",
    "for i in range (0,50) :\n",
    "    a = random.randint(1,7)\n",
    "    sales_call.append(a)\n",
    "    \n",
    "for i in range (0,50) :\n",
    "    a = random.randint(0,1000)\n",
    "    sale_made.append(a)\n",
    "    \n",
    "df = pd.DataFrame()\n",
    "df['sales_call'] = sales_call\n",
    "df['sale_made'] = sale_made\n",
    "\n",
    "df.corr(method = 'pearson')"
   ]
  },
  {
   "cell_type": "code",
   "execution_count": null,
   "id": "91338156-0c9e-4a46-a158-8661f0cc5357",
   "metadata": {},
   "outputs": [],
   "source": []
  }
 ],
 "metadata": {
  "kernelspec": {
   "display_name": "Python 3 (ipykernel)",
   "language": "python",
   "name": "python3"
  },
  "language_info": {
   "codemirror_mode": {
    "name": "ipython",
    "version": 3
   },
   "file_extension": ".py",
   "mimetype": "text/x-python",
   "name": "python",
   "nbconvert_exporter": "python",
   "pygments_lexer": "ipython3",
   "version": "3.10.8"
  }
 },
 "nbformat": 4,
 "nbformat_minor": 5
}
