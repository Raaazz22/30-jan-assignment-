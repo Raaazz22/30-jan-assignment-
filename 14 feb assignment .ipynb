{
 "cells": [
  {
   "cell_type": "code",
   "execution_count": null,
   "id": "8c290fec-dcdc-4716-9230-3bf5f2466f82",
   "metadata": {},
   "outputs": [],
   "source": [
    "#Q1.what is multithreading in python? why is it used? Name the module used to handle threads in python.\n",
    "\n",
    "\n",
    "#Multithreading is defined as the ability of a processor to execute multiple threads concurrently.\n",
    "\n",
    "#Multiple threads within a process share the same data space with the main thread and can therefore share information or \n",
    "#communicate with each other more easily than if they were separate processes.\n",
    "\n",
    "#In python programming language the threading module is used to handle thread .\n",
    "\n"
   ]
  },
  {
   "cell_type": "code",
   "execution_count": null,
   "id": "50f36f25-7401-4724-a24d-c143d39f99c7",
   "metadata": {},
   "outputs": [],
   "source": [
    "#Q2.why threading module used? write the use of the following functions a. activeCount() b.currentThread() c.enumerate()\n",
    "\n",
    "\n",
    "#In python programming language the threading module is used to handle thread .\n",
    "\n",
    "\n",
    "#activeCount()-\n",
    "\n",
    "#the activeCount() in python multithreading returns the number of thread objects that are active.\n",
    "\n",
    "\n",
    "#currentThread ()-\n",
    "\n",
    "#the currentThread() returns the number of thread objects in the caller's thread control.\n",
    "\n",
    "#enumerate() − \n",
    "\n",
    "#the enumerate() returns a list of all thread objects that are currently active.\n",
    "\n",
    "\n",
    "\n",
    "\n",
    "\n"
   ]
  },
  {
   "cell_type": "code",
   "execution_count": null,
   "id": "8ae86ccc-ffc2-4b21-bb11-32a6a2426df8",
   "metadata": {},
   "outputs": [],
   "source": [
    "#Q3. Explain the following functions a.run() b.start() c.join() d. isAlive()\n",
    "\n",
    "\n",
    "#run() − The run() method is the entry point for a thread.\n",
    "\n",
    "#start() − The start() method starts a thread by calling the run method.\n",
    "\n",
    "#join([time]) − The join() waits for threads to terminate.\n",
    "\n",
    "#isAlive() − The isAlive() method checks whether a thread is still executing\n",
    "\n"
   ]
  },
  {
   "cell_type": "code",
   "execution_count": 1,
   "id": "4295e3fd-c784-4e82-b1d9-3a9fc4529721",
   "metadata": {},
   "outputs": [
    {
     "name": "stdout",
     "output_type": "stream",
     "text": [
      "Square: 100\n",
      "Cube: 1000\n",
      "Done!\n"
     ]
    }
   ],
   "source": [
    "#Q4.write a python program to create two threads. Thread one must print the list of squares and thread two must print the \n",
    "#list of cubes\n",
    "\n",
    "\n",
    "\n",
    "import threading\n",
    " \n",
    " \n",
    "def print_cube(num):\n",
    "    print(\"Cube: {}\" .format(num * num * num))\n",
    " \n",
    " \n",
    "def print_square(num):\n",
    "    print(\"Square: {}\" .format(num * num))\n",
    " \n",
    " \n",
    "if __name__ ==\"__main__\":\n",
    "    t1 = threading.Thread(target=print_square, args=(10,))\n",
    "    t2 = threading.Thread(target=print_cube, args=(10,))\n",
    " \n",
    "    t1.start()\n",
    "    t2.start()\n",
    " \n",
    "    t1.join()\n",
    "    t2.join()\n",
    " \n",
    "    print(\"Done!\")"
   ]
  },
  {
   "cell_type": "code",
   "execution_count": null,
   "id": "4aac29ec-2062-429e-8e64-60db74314806",
   "metadata": {},
   "outputs": [],
   "source": [
    "#Q5. State advantages and disadvantages of multithreading\n",
    "\n",
    "\n",
    "#Advantages of multithreading--\n",
    "\n",
    "#Enhanced performance by decreased development time\n",
    "#Simplified and streamlined program coding\n",
    "#Improvised GUI responsiveness\n",
    "#Simultaneous and parallelized occurrence of tasks\n",
    "#Better use of cache storage by utilization of resources\n",
    "#Decreased cost of maintenance\n",
    "#Better use of CPU resource\n",
    "\n",
    "\n",
    "#Disadvantages of multithreading--\n",
    "\n",
    "#Complex debugging and testing processes\n",
    "#Overhead switching of context\n",
    "#Increased potential for deadlock occurrence\n",
    "#Increased difficulty level in writing a program\n",
    "#Unpredictable results\n",
    "\n"
   ]
  },
  {
   "cell_type": "code",
   "execution_count": null,
   "id": "55030972-ec10-4f12-b6a9-6c7d7a3e7af7",
   "metadata": {},
   "outputs": [],
   "source": [
    "#Q6. Explain deadlocks and race conditions.\n",
    "\n",
    "#race condition--\n",
    "\n",
    "\n",
    "#When two processes are competing with each other causing data corruption.\n",
    "\n",
    "#deadlock condition--\n",
    "\n",
    "\n",
    "#When two processes are waiting for each other directly or indirectly, it is called deadlock."
   ]
  }
 ],
 "metadata": {
  "kernelspec": {
   "display_name": "Python 3 (ipykernel)",
   "language": "python",
   "name": "python3"
  },
  "language_info": {
   "codemirror_mode": {
    "name": "ipython",
    "version": 3
   },
   "file_extension": ".py",
   "mimetype": "text/x-python",
   "name": "python",
   "nbconvert_exporter": "python",
   "pygments_lexer": "ipython3",
   "version": "3.10.8"
  }
 },
 "nbformat": 4,
 "nbformat_minor": 5
}
