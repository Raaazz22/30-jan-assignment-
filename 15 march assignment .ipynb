{
 "cells": [
  {
   "cell_type": "code",
   "execution_count": null,
   "id": "d92c5527-f7d7-4c74-a33d-b89d0820dbea",
   "metadata": {},
   "outputs": [],
   "source": [
    "Q1- Explain the following with an example ?\n",
    "1) Artificial Intelligence\n",
    "2) Machine Learning,\n",
    "3) Deep Learning\n",
    "\n",
    "Machine learning and deep learning are both types of AI. \n",
    "\n",
    "In short, machine learning is AI that can automatically adapt with minimal human interference. \n",
    "\n",
    "Deep learning is a subset of machine learning that uses artificial neural networks to mimic the learning process of the \n",
    "human brain.\n",
    "\n",
    "At its most basic level, the field of artificial intelligence uses computer science and data to enable problem solving \n",
    "in machines. "
   ]
  },
  {
   "cell_type": "code",
   "execution_count": null,
   "id": "6a259718-acb2-451f-98f4-3783aa680f62",
   "metadata": {},
   "outputs": [],
   "source": [
    "Q2- What is supervised learning ? List some examples of supervised learning.\n",
    "\n",
    "\n",
    "Supervised learning is the types of machine learning in which machines are trained using well \"labelled\" training data, \n",
    "and on basis of that data, machines predict the output. \n",
    "\n",
    "The labelled data means some input data is already tagged with the correct output.\n",
    "\n",
    "Supervised learning is a process of providing input data as well as correct output data to the machine learning model. \n",
    "\n",
    "The aim of a supervised learning algorithm is to find a mapping function to map the input variable(x) with the output \n",
    "\n",
    "variable(y).\n"
   ]
  },
  {
   "cell_type": "code",
   "execution_count": null,
   "id": "050bd74e-041f-42ed-897f-4528f4c4793b",
   "metadata": {},
   "outputs": [],
   "source": [
    "Q3- What is unsupervised learning? List some examples of unsupervised learning.\n",
    "\n",
    "Unsupervised learning is a type of machine learning in which models are trained using unlabeled dataset and are allowed \n",
    "to act on that data without any supervision.\n",
    "\n",
    "The goal of unsupervised learning is to find the underlying structure of dataset, group that data according to \n",
    "similarities, and represent that dataset in a compressed format.\n",
    "\n",
    "Unsupervised learning is much similar as a human learns to think by their own experiences, which makes it closer to the \n",
    "real AI.\n"
   ]
  },
  {
   "cell_type": "code",
   "execution_count": null,
   "id": "54065385-8a87-445b-85dc-b2beec7bfaaa",
   "metadata": {},
   "outputs": [],
   "source": [
    "Q4- \n",
    "\n",
    "Artificial Intelligence is the concept of creating smart intelligent machines. \n",
    "\n",
    "Machine Learning is a subset of artificial intelligence that helps you build AI-driven applications. \n",
    "\n",
    "Deep Learning is a subset of machine learning that uses vast volumes of data and complex algorithms to train a model."
   ]
  },
  {
   "cell_type": "code",
   "execution_count": null,
   "id": "9cf82865-4290-4f47-9447-a6cfc4f094cd",
   "metadata": {},
   "outputs": [],
   "source": [
    "Q5 - \n",
    "\n",
    "\n",
    "Supervised learning algorithms are trained using labeled data. \n",
    "\n",
    "Unsupervised learning algorithms are trained using unlabeled data. \n",
    "\n",
    "Supervised learning model takes direct feedback to check if it is predicting correct output or not. \n",
    "\n",
    "Unsupervised learning model does not take any feedback."
   ]
  },
  {
   "cell_type": "code",
   "execution_count": null,
   "id": "3e4dd4bf-1e61-447f-a7dd-ce437443aa20",
   "metadata": {},
   "outputs": [],
   "source": [
    "Q6 - \n",
    "\n",
    "1. Training dataset\n",
    "This is one of the most important subsets of the whole dataset, comprising about 60% of the total dataset. \n",
    "This set comprises the data that will initially be used to train the model. \n",
    "\n",
    "2. Validation dataset\n",
    "This subset is about 20% of the total dataset and is used to evaluate all the parameters of the model after the training \n",
    "phase is complete. The validation data is known data that helps in identifying any shortcomings in the model. \n",
    "This data is also used to identify if the model is over/underfitting. \n",
    "\n",
    "3. Test dataset\n",
    "This subset is input at the final stage of the training process and accounts for the last 20% of the dataset. \n",
    "The data in this subset is unknown to the model and is used to test the accuracy of the model.\n"
   ]
  },
  {
   "cell_type": "code",
   "execution_count": null,
   "id": "6d2ff5d6-3c30-43e5-a412-34cf334afb13",
   "metadata": {},
   "outputs": [],
   "source": [
    "Q7 - \n",
    "\n",
    "Anomaly detection techniques of unsupervised nature assume that normal data points occur considerably more frequently \n",
    "than anomalous data points. \n",
    "\n",
    "This assumption is used to classify data points that occur less frequently as anomalies. \n",
    "\n",
    "Unsupervised techniques assign each data point a score instead of a label."
   ]
  },
  {
   "cell_type": "code",
   "execution_count": null,
   "id": "3dc33a09-6baa-4591-a3fb-e94c05320cf8",
   "metadata": {},
   "outputs": [],
   "source": [
    "Q8 - \n",
    "\n",
    "The most commonly used Supervised Learning algorithms are decision tree, logistic regression, linear regression, \n",
    "support vector machine. \n",
    "\n",
    "The most commonly used Unsupervised Learning algorithms are k-means clustering, hierarchical clustering, and apriori \n",
    "algorithm."
   ]
  }
 ],
 "metadata": {
  "kernelspec": {
   "display_name": "Python 3 (ipykernel)",
   "language": "python",
   "name": "python3"
  },
  "language_info": {
   "codemirror_mode": {
    "name": "ipython",
    "version": 3
   },
   "file_extension": ".py",
   "mimetype": "text/x-python",
   "name": "python",
   "nbconvert_exporter": "python",
   "pygments_lexer": "ipython3",
   "version": "3.10.8"
  }
 },
 "nbformat": 4,
 "nbformat_minor": 5
}
