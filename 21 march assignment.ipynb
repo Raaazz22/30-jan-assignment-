{
 "cells": [
  {
   "cell_type": "code",
   "execution_count": null,
   "id": "028e8c8c-b5fc-4fcd-883e-072595ee248a",
   "metadata": {},
   "outputs": [],
   "source": [
    "Q1. What is the difference between Ordinal Encoding and Label Encoding? Provide an example of when you\n",
    "might choose one over the other.\n",
    "\n",
    "You use ordinal encoding to preserve order of categorical data i.e. cold, warm, hot; low, medium, high. \n",
    "\n",
    "You use label encoding or one hot for categorical data, where there's no order in data i.e. dog, cat, whale"
   ]
  },
  {
   "cell_type": "code",
   "execution_count": null,
   "id": "531dfc77-ea58-4403-a071-4a45a7f4b777",
   "metadata": {},
   "outputs": [],
   "source": [
    "Q2. Explain how Target Guided Ordinal Encoding works and provide an example of when you might use it in\n",
    "a machine learning project.\n",
    "\n",
    "We can apply this technique but cant do this with nominal as we dont know the order in case of nominal variables unlike \n",
    "in the case of Ordinal where we know the order of variables.\n",
    "\n",
    "To overcome this limitation for Nominal variables we use another technique called Mean Encoding\n"
   ]
  },
  {
   "cell_type": "code",
   "execution_count": null,
   "id": "d5f00c66-6b21-4ab2-9531-1702671dff00",
   "metadata": {},
   "outputs": [],
   "source": [
    "Q3. Define covariance and explain why it is important in statistical analysis. How is covariance calculated?\n",
    "\n",
    "Covariance is a statistical tool used to determine the relationship between the movements of two random variables. \n",
    "\n",
    "When two stocks tend to move together, they are seen as having a positive covariance; when they move inversely, \n",
    "the covariance is negative."
   ]
  },
  {
   "cell_type": "code",
   "execution_count": null,
   "id": "f89538eb-d093-4a8e-9b18-7f8b1e8cb840",
   "metadata": {},
   "outputs": [],
   "source": [
    "Q4. For a dataset with the following categorical variables: Color (red, green, blue), Size (small, medium,\n",
    "large), and Material (wood, metal, plastic), perform label encoding using Python's scikit-learn library.\n",
    "Show your code and explain the output.\n",
    "\n"
   ]
  }
 ],
 "metadata": {
  "kernelspec": {
   "display_name": "Python 3 (ipykernel)",
   "language": "python",
   "name": "python3"
  },
  "language_info": {
   "codemirror_mode": {
    "name": "ipython",
    "version": 3
   },
   "file_extension": ".py",
   "mimetype": "text/x-python",
   "name": "python",
   "nbconvert_exporter": "python",
   "pygments_lexer": "ipython3",
   "version": "3.10.8"
  }
 },
 "nbformat": 4,
 "nbformat_minor": 5
}
