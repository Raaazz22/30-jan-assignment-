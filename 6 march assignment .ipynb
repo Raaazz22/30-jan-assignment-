{
 "cells": [
  {
   "cell_type": "code",
   "execution_count": null,
   "id": "84edbd94-cdd3-40ed-a6f7-5ef463bfcf4e",
   "metadata": {},
   "outputs": [],
   "source": [
    "#Q1. What is Statistics?\n",
    "\n",
    "\n",
    "statistics is the science of collecting , organizing and analyzing the data."
   ]
  },
  {
   "cell_type": "code",
   "execution_count": null,
   "id": "081f2ecc-b28c-4f4e-a1a6-d3a32f0ba8f0",
   "metadata": {},
   "outputs": [],
   "source": [
    "#Q2. Define the different types of statistics and give an example of when each type might be used.\n",
    "\n",
    "There are two types of statistics - \n",
    "\n",
    "Descriptive statistics \n",
    "Inferential statistics\n",
    "\n",
    "\n",
    "Descriptive statistics - it consist of organizing and summerizing of data .\n",
    "example - height ,mean ,medain , mode\n",
    "\n",
    "\n",
    "Inferential statistics - it consist of using the the data you have to measure the conclusion .\n",
    "example - election poll\n",
    "\n",
    "\n",
    "\n"
   ]
  },
  {
   "cell_type": "code",
   "execution_count": null,
   "id": "202a1943-cb02-4edc-8f41-5614f77a42c6",
   "metadata": {},
   "outputs": [],
   "source": [
    "#Q3. What are the different types of data and how do they differ from each other? Provide an example of\n",
    "#each type of data.\n",
    "\n",
    "\n",
    "Types of data -\n",
    "\n",
    "there are two types of data-\n",
    "\n",
    "1. Qunatitative data - they are numerical data\n",
    "      they are of two types -\n",
    "                 a. Discrete data- the data are whole number .\n",
    "                          example - age , no. of memebers , no. of countries .\n",
    "                 \n",
    "                 b. continueous data - the data are of any types \n",
    "                          example - weight , height ,etc.\n",
    "                        \n",
    "2. Qualitative data- they are categorical data\n",
    "    they are of two types -\n",
    "    \n",
    "             a . nominal data - the data in which no rank are neede .\n",
    "                      example - male-female , red-blue-black\n",
    "             b. ordinal data - the data in which rank matters \n",
    "                      example - good, bad ,better\n",
    "                    \n",
    "            "
   ]
  },
  {
   "cell_type": "code",
   "execution_count": null,
   "id": "522a5be9-0e3c-4036-ae68-ee2cc74dce77",
   "metadata": {},
   "outputs": [],
   "source": [
    "#Q4. Categorise the following datasets with respect to quantitative and qualitative data types:\n",
    "#(i) Grading in exam: A+, A, B+, B, C+, C, D, E\n",
    "#(ii) Colour of mangoes: yellow, green, orange, red\n",
    "#(iii) Height data of a class: [178.9, 179, 179.5, 176, 177.2, 178.3, 175.8,...]\n",
    "#(iv) Number of mangoes exported by a farm: [500, 600, 478, 672, ...]\n",
    "\n",
    "\n",
    "(i) Grading in exam: A+, A, B+, B, C+, C, D, E\n",
    "\n",
    "         rank matters \n",
    "         ordinal data\n",
    "    \n",
    "(ii) Colour of mangoes: yellow, green, orange, red\n",
    "\n",
    "       rank not metters \n",
    "       normal data\n",
    "        \n",
    "(iii) Height data of a class: [178.9, 179, 179.5, 176, 177.2, 178.3, 175.8,...]\n",
    "\n",
    "      any types of data type\n",
    "      continueous data\n",
    "        \n",
    "        \n",
    "(iv) Number of mangoes exported by a farm: [500, 600, 478, 672, ...]\n",
    "        \n",
    "      whole number data\n",
    "      discrete data\n"
   ]
  },
  {
   "cell_type": "code",
   "execution_count": null,
   "id": "bbf8088b-1d91-445e-88aa-ef7fc13947f4",
   "metadata": {},
   "outputs": [],
   "source": [
    "#Q5. Explain the concept of levels of measurement and give an example of a variable for each level.\n",
    "\n",
    "\n",
    "There are four levels of mesurement - \n",
    "\n",
    "\n",
    "1.nominal scale data\n",
    "   \n",
    "     catrgorical data\n",
    "     order does not matter\n",
    "    \n",
    "     example - gender \n",
    "    \n",
    "2.ordinal scale data\n",
    "    ranking is important \n",
    "    order  matter\n",
    "    difference can not be measured\n",
    "    \n",
    "    example - good , better , bad\n",
    "    \n",
    "3.interval scale data\n",
    "\n",
    "        order matter\n",
    "        difference can be messured\n",
    "        ratio can not be measured \n",
    "        not  0  starting point\n",
    "        \n",
    "        example - temperatue\n",
    "\n",
    "4.ratio scale data\n",
    "\n",
    "        order matter\n",
    "        difference can be messured\n",
    "        ratio can  be measured \n",
    "         0  starting point\n",
    "        \n",
    "        example - marks ration of students\n",
    "\n"
   ]
  },
  {
   "cell_type": "code",
   "execution_count": null,
   "id": "c5a18ab3-0367-4d94-9366-0bf2e9db4a3a",
   "metadata": {},
   "outputs": [],
   "source": [
    "#Q6. Why is it important to understand the level of measurement when analyzing data? Provide an\n",
    "#example to illustrate your answer.\n",
    "\n",
    "\n",
    "It is important to understand the level of measurement of variables in research, because the level of measurement determines \n",
    "the type of statistical analysis that can be conducted, and, therefore, the type of conclusions that can be drawn from the \n",
    "esearch."
   ]
  },
  {
   "cell_type": "code",
   "execution_count": null,
   "id": "1d31db84-62ea-4996-876a-415ffff24b6e",
   "metadata": {},
   "outputs": [],
   "source": [
    "#Q7. How nominal data type is different from ordinal data type.\n",
    "\n",
    "             a . nominal data - the data in which no rank are neede .\n",
    "                      example - male-female , red-blue-black\n",
    "        \n",
    "        \n",
    "             b. ordinal data - the data in which rank matters \n",
    "                      example - good, bad ,better"
   ]
  },
  {
   "cell_type": "code",
   "execution_count": null,
   "id": "cb545433-da3e-45ba-91eb-8a586884afd7",
   "metadata": {},
   "outputs": [],
   "source": [
    "#Q8. Which type of plot can be used to display data in terms of range?\n",
    "\n",
    "Histogram - If the groups depicted in a bar chart are actually continuous numeric ranges, we can push the bars together to \n",
    "generate a histogram. Bar lengths in histograms typically correspond to counts of data points, and their patterns demonstrate\n",
    "the distribution of variables in your data."
   ]
  },
  {
   "cell_type": "code",
   "execution_count": null,
   "id": "3d5096fa-2132-4c1e-8e14-5aa11146b104",
   "metadata": {},
   "outputs": [],
   "source": [
    "#Q9. Describe the difference between descriptive and inferential statistics. Give an example of each\n",
    "#type of statistics and explain how they are used.\n",
    "\n",
    "\n",
    "\n",
    "Descriptive statistics - it consist of organizing and summerizing of data .\n",
    "example - height ,mean ,medain , mode\n",
    "\n",
    "\n",
    "Inferential statistics - it consist of using the the data you have to measure the conclusion .\n",
    "example - election poll"
   ]
  },
  {
   "cell_type": "code",
   "execution_count": null,
   "id": "0f178b20-6c9c-439f-b21b-b18160071d44",
   "metadata": {},
   "outputs": [],
   "source": [
    "#Q10. What are some common measures of central tendency and variability used in statistics? Explain\n",
    "#how each measure can be used to describe a dataset.\n",
    "\n",
    "\n",
    "There are three types of measure of central tendency - \n",
    "\n",
    "Mean\n",
    "\n",
    "median \n",
    "\n",
    "mode"
   ]
  }
 ],
 "metadata": {
  "kernelspec": {
   "display_name": "Python 3 (ipykernel)",
   "language": "python",
   "name": "python3"
  },
  "language_info": {
   "codemirror_mode": {
    "name": "ipython",
    "version": 3
   },
   "file_extension": ".py",
   "mimetype": "text/x-python",
   "name": "python",
   "nbconvert_exporter": "python",
   "pygments_lexer": "ipython3",
   "version": "3.10.8"
  }
 },
 "nbformat": 4,
 "nbformat_minor": 5
}
