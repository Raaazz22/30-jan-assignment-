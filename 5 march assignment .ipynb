{
 "cells": [
  {
   "cell_type": "code",
   "execution_count": null,
   "id": "cd96ea69-8c48-4117-9eee-ee094a5514fd",
   "metadata": {},
   "outputs": [],
   "source": [
    "#Q1. How can you create a Bokeh plot using Python code?\n",
    "\n",
    "import bokeh.io\n",
    "import bokeh.plotting\n",
    "bokeh.io.output_notebook()\n",
    "\n",
    "from bokeh.plotting import figure ,output_file ,show\n",
    "from bokeh.sampledata.iris import flowers\n",
    "output_file('test.html')\n",
    "p = figure (title = 'test_flower')\n",
    "p.circle(flower['petal_length'],flower['petal_width'])\n",
    "show(p)"
   ]
  },
  {
   "cell_type": "code",
   "execution_count": 6,
   "id": "f6263259-5c37-43ca-af7e-6e83cb10eb3d",
   "metadata": {},
   "outputs": [
    {
     "data": {
      "text/html": [
       "\n",
       "  <div id=\"e5d7c5eb-7fb1-4411-b3de-75dc4c755775\" data-root-id=\"p1049\" style=\"display: contents;\"></div>\n"
      ]
     },
     "metadata": {},
     "output_type": "display_data"
    },
    {
     "data": {
      "application/javascript": [
       "(function(root) {\n",
       "  function embed_document(root) {\n",
       "  const docs_json = {\"0b3c5071-d9e2-4e64-985b-125e6e12c99e\":{\"version\":\"3.0.3\",\"title\":\"Bokeh Application\",\"defs\":[],\"roots\":[{\"type\":\"object\",\"name\":\"Figure\",\"id\":\"p1049\",\"attributes\":{\"x_range\":{\"type\":\"object\",\"name\":\"DataRange1d\",\"id\":\"p1051\"},\"y_range\":{\"type\":\"object\",\"name\":\"DataRange1d\",\"id\":\"p1050\"},\"x_scale\":{\"type\":\"object\",\"name\":\"LinearScale\",\"id\":\"p1063\"},\"y_scale\":{\"type\":\"object\",\"name\":\"LinearScale\",\"id\":\"p1065\"},\"title\":{\"type\":\"object\",\"name\":\"Title\",\"id\":\"p1052\",\"attributes\":{\"text\":\"simple line chart\"}},\"renderers\":[{\"type\":\"object\",\"name\":\"GlyphRenderer\",\"id\":\"p1102\",\"attributes\":{\"data_source\":{\"type\":\"object\",\"name\":\"ColumnDataSource\",\"id\":\"p1096\",\"attributes\":{\"selected\":{\"type\":\"object\",\"name\":\"Selection\",\"id\":\"p1098\",\"attributes\":{\"indices\":[],\"line_indices\":[]}},\"selection_policy\":{\"type\":\"object\",\"name\":\"UnionRenderers\",\"id\":\"p1097\"},\"data\":{\"type\":\"map\",\"entries\":[[\"x\",[1,2,3,4,5,6,7,8,9,10]],[\"y\",[2,4,6,8,10,12,14,16,18,20]]]}}},\"view\":{\"type\":\"object\",\"name\":\"CDSView\",\"id\":\"p1103\",\"attributes\":{\"filter\":{\"type\":\"object\",\"name\":\"AllIndices\",\"id\":\"p1104\"}}},\"glyph\":{\"type\":\"object\",\"name\":\"Line\",\"id\":\"p1099\",\"attributes\":{\"x\":{\"type\":\"field\",\"field\":\"x\"},\"y\":{\"type\":\"field\",\"field\":\"y\"},\"line_color\":\"#1f77b4\",\"line_width\":3}},\"nonselection_glyph\":{\"type\":\"object\",\"name\":\"Line\",\"id\":\"p1100\",\"attributes\":{\"x\":{\"type\":\"field\",\"field\":\"x\"},\"y\":{\"type\":\"field\",\"field\":\"y\"},\"line_color\":\"#1f77b4\",\"line_alpha\":0.1,\"line_width\":3}},\"muted_glyph\":{\"type\":\"object\",\"name\":\"Line\",\"id\":\"p1101\",\"attributes\":{\"x\":{\"type\":\"field\",\"field\":\"x\"},\"y\":{\"type\":\"field\",\"field\":\"y\"},\"line_color\":\"#1f77b4\",\"line_alpha\":0.2,\"line_width\":3}}}}],\"toolbar\":{\"type\":\"object\",\"name\":\"Toolbar\",\"id\":\"p1056\",\"attributes\":{\"tools\":[{\"type\":\"object\",\"name\":\"PanTool\",\"id\":\"p1081\"},{\"type\":\"object\",\"name\":\"WheelZoomTool\",\"id\":\"p1082\"},{\"type\":\"object\",\"name\":\"BoxZoomTool\",\"id\":\"p1083\",\"attributes\":{\"overlay\":{\"type\":\"object\",\"name\":\"BoxAnnotation\",\"id\":\"p1084\",\"attributes\":{\"syncable\":false,\"level\":\"overlay\",\"visible\":false,\"left_units\":\"canvas\",\"right_units\":\"canvas\",\"bottom_units\":\"canvas\",\"top_units\":\"canvas\",\"line_color\":\"black\",\"line_alpha\":1.0,\"line_width\":2,\"line_dash\":[4,4],\"fill_color\":\"lightgrey\",\"fill_alpha\":0.5}}}},{\"type\":\"object\",\"name\":\"SaveTool\",\"id\":\"p1085\"},{\"type\":\"object\",\"name\":\"ResetTool\",\"id\":\"p1086\"},{\"type\":\"object\",\"name\":\"HelpTool\",\"id\":\"p1087\"}]}},\"left\":[{\"type\":\"object\",\"name\":\"LinearAxis\",\"id\":\"p1074\",\"attributes\":{\"ticker\":{\"type\":\"object\",\"name\":\"BasicTicker\",\"id\":\"p1076\",\"attributes\":{\"mantissas\":[1,2,5]}},\"formatter\":{\"type\":\"object\",\"name\":\"BasicTickFormatter\",\"id\":\"p1077\"},\"axis_label\":\"Y-Axis\",\"major_label_policy\":{\"type\":\"object\",\"name\":\"AllLabels\",\"id\":\"p1075\"}}}],\"below\":[{\"type\":\"object\",\"name\":\"LinearAxis\",\"id\":\"p1067\",\"attributes\":{\"ticker\":{\"type\":\"object\",\"name\":\"BasicTicker\",\"id\":\"p1069\",\"attributes\":{\"mantissas\":[1,2,5]}},\"formatter\":{\"type\":\"object\",\"name\":\"BasicTickFormatter\",\"id\":\"p1070\"},\"axis_label\":\"X-Axis\",\"major_label_policy\":{\"type\":\"object\",\"name\":\"AllLabels\",\"id\":\"p1068\"}}}],\"center\":[{\"type\":\"object\",\"name\":\"Grid\",\"id\":\"p1073\",\"attributes\":{\"axis\":{\"id\":\"p1067\"}}},{\"type\":\"object\",\"name\":\"Grid\",\"id\":\"p1080\",\"attributes\":{\"dimension\":1,\"axis\":{\"id\":\"p1074\"}}}]}}]}};\n",
       "  const render_items = [{\"docid\":\"0b3c5071-d9e2-4e64-985b-125e6e12c99e\",\"roots\":{\"p1049\":\"e5d7c5eb-7fb1-4411-b3de-75dc4c755775\"},\"root_ids\":[\"p1049\"]}];\n",
       "  root.Bokeh.embed.embed_items_notebook(docs_json, render_items);\n",
       "  }\n",
       "  if (root.Bokeh !== undefined) {\n",
       "    embed_document(root);\n",
       "  } else {\n",
       "    let attempts = 0;\n",
       "    const timer = setInterval(function(root) {\n",
       "      if (root.Bokeh !== undefined) {\n",
       "        clearInterval(timer);\n",
       "        embed_document(root);\n",
       "      } else {\n",
       "        attempts++;\n",
       "        if (attempts > 100) {\n",
       "          clearInterval(timer);\n",
       "          console.log(\"Bokeh: ERROR: Unable to run BokehJS code because BokehJS library is missing\");\n",
       "        }\n",
       "      }\n",
       "    }, 10, root)\n",
       "  }\n",
       "})(window);"
      ],
      "application/vnd.bokehjs_exec.v0+json": ""
     },
     "metadata": {
      "application/vnd.bokehjs_exec.v0+json": {
       "id": "p1049"
      }
     },
     "output_type": "display_data"
    }
   ],
   "source": [
    "#Q2. What are glyphs in Bokeh, and how can you add them to a Bokeh plot? Explain with an example.\n",
    "\n",
    "#Glyphs are nothing but visual shapes that are drawn to represent the data such as circles, squares, lines, rectangles, etc.\n",
    "\n",
    "from bokeh.plotting import figure, show, output_file\n",
    " \n",
    "\n",
    "a = [1, 2, 3, 4, 5, 6, 7, 8, 9, 10]\n",
    "b = [2, 4, 6, 8, 10, 12, 14, 16, 18, 20]\n",
    " \n",
    "\n",
    "my_plot = figure(title=\"simple line chart\", x_axis_label=\"X-Axis\",\n",
    "                 y_axis_label=\"Y-Axis\")\n",
    " \n",
    "\n",
    "my_plot.line(a, b, line_width=3)\n",
    " \n",
    "\n",
    "output_file(\"line.html\")\n",
    "\n",
    "show(my_plot)"
   ]
  },
  {
   "cell_type": "code",
   "execution_count": null,
   "id": "a81bc622-f242-4f6a-b79d-2d6a3e34aacb",
   "metadata": {},
   "outputs": [],
   "source": [
    "#Q3. How can you customize the appearance of a Bokeh plot, including the axes, title, and legend?\n",
    "\n",
    "from bokeh.plotting import figure, output_file, show\n",
    "import math\n",
    "x2 = list(range(1,11))\n",
    "y4 = [math.pow(i,2) for i in x2]\n",
    "y2 = [math.log10(pow(10,i)) for i in x2]\n",
    "fig = figure(y_axis_type = 'log')\n",
    "fig.circle(x2, y2,size = 5, color = 'blue', legend = 'blue circle')\n",
    "fig.line(x2,y4, line_width = 2, line_color = 'red', legend = 'red line')\n",
    "fig.legend.location = 'top_left'\n",
    "fig.legend.title = 'Legend Title'\n",
    "fig.legend.title_text_font = 'Arial'\n",
    "fig.legend.title_text_font_size = '20pt'\n",
    "show(fig)"
   ]
  },
  {
   "cell_type": "code",
   "execution_count": null,
   "id": "6c11b542-7452-4bc2-8ccf-5c537d4f0404",
   "metadata": {},
   "outputs": [],
   "source": [
    "#Q4. What is a Bokeh server, and how can you use it to create interactive plots that can be updated in\n",
    "#real time?\n",
    "\n",
    "\n",
    "import numpy as np\n",
    "from bokeh.io import curdoc\n",
    "from bokeh.layouts import row, column\n",
    "from bokeh.models import ColumnDataSource\n",
    "from bokeh.models.widgets import Slider, TextInput\n",
    "from bokeh.plotting import figure\n",
    "N = 200\n",
    "x = np.linspace(0, 4*np.pi, N)\n",
    "y = np.sin(x)\n",
    "source = ColumnDataSource(data = dict(x = x, y = y))\n",
    "plot = figure(plot_height = 400, plot_width = 400, title = \"sine wave\")\n",
    "plot.line('x', 'y', source = source, line_width = 3, line_alpha = 0.6)\n",
    "freq = Slider(title = \"frequency\", value = 1.0, start = 0.1, end = 5.1, step = 0.1)\n",
    "def update_data(attrname, old, new):\n",
    "   a = 1\n",
    "   b = 0\n",
    "   w = 0\n",
    "   k = freq.value\n",
    "   x = np.linspace(0, 4*np.pi, N)\n",
    "   y = a*np.sin(k*x + w) + b\n",
    "   source.data = dict(x = x, y = y)\n",
    "freq.on_change('value', update_data)\n",
    "curdoc().add_root(row(freq, plot, width = 500))\n",
    "curdoc().title = \"Sliders\""
   ]
  },
  {
   "cell_type": "code",
   "execution_count": null,
   "id": "9f0cc5a6-e35d-4918-a378-10524a9fa1a1",
   "metadata": {},
   "outputs": [],
   "source": [
    "#Q5. How can you embed a Bokeh plot into a web page or dashboard using Flask or Django?\n",
    "\n",
    "import numpy as np\n",
    "from bokeh.io import curdoc\n",
    "from bokeh.layouts import row, column\n",
    "from bokeh.models import ColumnDataSource\n",
    "from bokeh.models.widgets import Slider, TextInput\n",
    "from bokeh.plotting import figure\n",
    "N = 200\n",
    "x = np.linspace(0, 4*np.pi, N)\n",
    "y = np.sin(x)\n",
    "source = ColumnDataSource(data = dict(x = x, y = y))\n",
    "plot = figure(plot_height = 400, plot_width = 400, title = \"sine wave\")\n",
    "plot.line('x', 'y', source = source, line_width = 3, line_alpha = 0.6)\n",
    "freq = Slider(title = \"frequency\", value = 1.0, start = 0.1, end = 5.1, step = 0.1)\n",
    "def update_data(attrname, old, new):\n",
    "   a = 1\n",
    "   b = 0\n",
    "   w = 0\n",
    "   k = freq.value\n",
    "   x = np.linspace(0, 4*np.pi, N)\n",
    "   y = a*np.sin(k*x + w) + b\n",
    "   source.data = dict(x = x, y = y)\n",
    "freq.on_change('value', update_data)\n",
    "curdoc().add_root(row(freq, plot, width = 500))\n",
    "curdoc().title = \"Sliders\""
   ]
  }
 ],
 "metadata": {
  "kernelspec": {
   "display_name": "Python 3 (ipykernel)",
   "language": "python",
   "name": "python3"
  },
  "language_info": {
   "codemirror_mode": {
    "name": "ipython",
    "version": 3
   },
   "file_extension": ".py",
   "mimetype": "text/x-python",
   "name": "python",
   "nbconvert_exporter": "python",
   "pygments_lexer": "ipython3",
   "version": "3.10.8"
  }
 },
 "nbformat": 4,
 "nbformat_minor": 5
}
