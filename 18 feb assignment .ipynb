{
 "cells": [
  {
   "cell_type": "code",
   "execution_count": null,
   "id": "838d5da4-e421-4dbe-86bc-2b5aa02eb859",
   "metadata": {},
   "outputs": [],
   "source": [
    "#Q1. What is an API? Give an example, where an API is used in real life.\n",
    "\n",
    "Web API Is simply an API for the web. It is an API that can be accessed using the HTTP protocol. \n",
    "It can be built using Java, .nET, etc. It is implemented to extend the functionality of a browser, simplify complex functions, \n",
    "and provide easy syntax to complex code. \n",
    "\n",
    "There are several examples of web api like gmail , facebook  etc.\n",
    "\n",
    "Google Maps API’s: Google Maps APIs allows developers to use Google Maps on Webpages using a JavaScript or Flash interface.\n",
    "\n",
    "In gmail we put the id and password and the gmail validate the id and password with database and provide authentication."
   ]
  },
  {
   "cell_type": "code",
   "execution_count": null,
   "id": "7ca1c278-df5e-460d-8a1e-8005c88976a0",
   "metadata": {},
   "outputs": [],
   "source": [
    "#Q2. Give advantages and disadvantages of using API.\n",
    "\n",
    "#Advantages of APIs \n",
    "\n",
    "Efficiency: API produces efficient, quicker, and more reliable results than the outputs produced by human beings in an organization.\n",
    "\n",
    "Flexible delivery of services: API provides fast and flexible delivery of services according to developers’ requirements.\n",
    "\n",
    "Integration: The best feature of API is that it allows the movement of data between various sites and thus enhances the integrated user experience.\n",
    "\n",
    "Automation: As API makes use of robotic computers rather than humans, it produces better and more automated results.\n",
    "\n",
    "New functionality: While using API the developers find new tools and functionality for API exchanges.\n",
    "\n",
    "\n",
    "#Disadvantages of APIs \n",
    "\n",
    "Cost: Developing and implementing API is costly at times and requires high maintenance and support from developers.\n",
    "\n",
    "Security issues: Using API adds another layer of surface which is then prone to attacks, and hence the security risk problem is common in APIs."
   ]
  },
  {
   "cell_type": "code",
   "execution_count": null,
   "id": "52e9cb23-53a7-47d3-abd4-64f706a87a67",
   "metadata": {},
   "outputs": [],
   "source": [
    "#3. What is a Web API? Differentiate between API and Web API.\n",
    "\n",
    "Web API Is simply an API for the web. It is an API that can be accessed using the HTTP protocol. \n",
    "It can be built using Java, .nET, etc. It is implemented to extend the functionality of a browser, simplify complex functions, \n",
    "and provide easy syntax to complex code. \n",
    "\n",
    "The four main types of web APIs are:\n",
    "1.\tOpen API\n",
    "2.\tPartner API\n",
    "3.\tInternal API\n",
    "4.\tComposite API\n"
   ]
  },
  {
   "cell_type": "code",
   "execution_count": null,
   "id": "7375bf86-bf61-44f8-b718-2cf2f51827d5",
   "metadata": {},
   "outputs": [],
   "source": [
    "#Q4. Explain REST and SOAP Architecture. Mention shortcomings of SOAP.\n",
    "\n",
    "\n",
    "#REST. \n",
    "\n",
    "The representational state transfer (REST) architecture is perhaps the most popular approach to building APIs. \n",
    "\n",
    "REST relies on a client/server approach that separates front and back ends of the API and provides considerable flexibility in development and implementation. \n",
    "\n",
    "REST is stateless, which means the API stores no data or status between requests. REST supports caching, which stores responses for slow or non-time-sensitive APIs.\n",
    "\n",
    "REST APIs, usually termed RESTful APIs, also can communicate directly or operate through intermediate systems such as API gateways and load balancers.\n",
    "\n",
    "\n",
    "#SOAP.\n",
    "\n",
    "The simple object access protocol (SOAP) is a messaging standard defined by the World Wide Web Consortium and broadly used to\n",
    "create web APIs, usually with XML. SOAP supports a wide range of communication protocols found across the internet, such as \n",
    "HTTP, SMTP and TCP/IP. \n",
    "\n",
    "SOAP is also extensible and style-independent, which enables developers to write SOAP APIs in varied \n",
    "ways and easily add features and functionality. \n",
    "\n",
    "The SOAP approach defines how the SOAP message is processed, the features and modules included, the communication protocol(s) supported and the construction of SOAP messages.\n",
    "\n",
    "    "
   ]
  },
  {
   "cell_type": "code",
   "execution_count": null,
   "id": "19e47575-7f85-4527-9348-f479f6626699",
   "metadata": {},
   "outputs": [],
   "source": [
    "#Q5. Differentiate between REST and SOAP.\n",
    "\n",
    "REST Works with XML, JSON, HTTP and plain text while SOAP works with XML.\n",
    "\n",
    "REST are Loose and flexible guidelines based on architectures while SOAP are strict.\n",
    "\n",
    "REST has Modest security while SOAP has advance security.\n",
    "\n",
    "REST work well with data and SOAP work well with processes.\n"
   ]
  }
 ],
 "metadata": {
  "kernelspec": {
   "display_name": "Python 3 (ipykernel)",
   "language": "python",
   "name": "python3"
  },
  "language_info": {
   "codemirror_mode": {
    "name": "ipython",
    "version": 3
   },
   "file_extension": ".py",
   "mimetype": "text/x-python",
   "name": "python",
   "nbconvert_exporter": "python",
   "pygments_lexer": "ipython3",
   "version": "3.10.8"
  }
 },
 "nbformat": 4,
 "nbformat_minor": 5
}
