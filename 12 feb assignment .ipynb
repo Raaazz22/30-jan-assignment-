{
 "cells": [
  {
   "cell_type": "markdown",
   "id": "cd944d33-2b8b-401e-bbe8-cc398a66f8cc",
   "metadata": {},
   "source": [
    "Q1. What is an Exception in python? Write the difference between Exceptions and syntax errors ?\n",
    "\n",
    "\n",
    "An exception is an event, which occurs during the execution of a program that disrupts the normal flow of the \n",
    "program's instructions.\n",
    "\n",
    "\n",
    "Exceptions are caused by the code of the application itself while the syntax error is occured by the programmer mistake."
   ]
  },
  {
   "cell_type": "code",
   "execution_count": 3,
   "id": "49413390-82c4-436e-b44e-32a7469a0ea0",
   "metadata": {},
   "outputs": [
    {
     "ename": "ZeroDivisionError",
     "evalue": "division by zero",
     "output_type": "error",
     "traceback": [
      "\u001b[0;31m---------------------------------------------------------------------------\u001b[0m",
      "\u001b[0;31mZeroDivisionError\u001b[0m                         Traceback (most recent call last)",
      "Cell \u001b[0;32mIn[3], line 9\u001b[0m\n\u001b[1;32m      7\u001b[0m a\u001b[38;5;241m=\u001b[39m\u001b[38;5;241m5\u001b[39m\n\u001b[1;32m      8\u001b[0m b\u001b[38;5;241m=\u001b[39m\u001b[38;5;241m0\u001b[39m\n\u001b[0;32m----> 9\u001b[0m \u001b[38;5;28mprint\u001b[39m(\u001b[43ma\u001b[49m\u001b[38;5;241;43m/\u001b[39;49m\u001b[43mb\u001b[49m)\n\u001b[1;32m     10\u001b[0m \u001b[38;5;28mprint\u001b[39m(\u001b[38;5;124m\"\u001b[39m\u001b[38;5;124mhello,world\u001b[39m\u001b[38;5;124m\"\u001b[39m)\n\u001b[1;32m     13\u001b[0m \u001b[38;5;66;03m#here the print(\"hello,world\") will not execute because the zero division error are raised and the execution of the rest \u001b[39;00m\n\u001b[1;32m     14\u001b[0m \u001b[38;5;66;03m#of the program will stop.\u001b[39;00m\n",
      "\u001b[0;31mZeroDivisionError\u001b[0m: division by zero"
     ]
    }
   ],
   "source": [
    "#Q2. What happened when exception is not handled ? Explain with an example .\n",
    "\n",
    "\n",
    "#when exception is not handled then the remaining code of the program will not execute\n",
    "#for example--\n",
    "\n",
    "a=5\n",
    "b=0\n",
    "print(a/b)\n",
    "print(\"hello,world\")\n",
    "\n",
    "\n",
    "#here the print(\"hello,world\") will not execute because the zero division error are raised and the execution of the rest \n",
    "#of the program will stop.\n",
    "\n"
   ]
  },
  {
   "cell_type": "code",
   "execution_count": 5,
   "id": "9284249e-83b1-43dc-8589-912d490f0269",
   "metadata": {},
   "outputs": [
    {
     "name": "stdout",
     "output_type": "stream",
     "text": [
      "error division by zero\n",
      "The error is handled\n"
     ]
    }
   ],
   "source": [
    "#Q3.  which python statement are used to catch and handle the exception? explain it with example\n",
    "\n",
    "\n",
    "#In python the exception is catch and handled with the help of try,except,else,and finally.\n",
    "\n",
    "try:\n",
    "    a=2\n",
    "    b=0\n",
    "    print(a/b)\n",
    "except Exception as e:\n",
    "    print(\"error\",e)\n",
    "else:\n",
    "    print(\"a is divided by b\",a/b)\n",
    "finally:\n",
    "    print(\"The error is handled\")\n"
   ]
  },
  {
   "cell_type": "code",
   "execution_count": 6,
   "id": "9f2f1406-ec41-4b5f-a574-55a703f1e5dd",
   "metadata": {},
   "outputs": [
    {
     "name": "stdout",
     "output_type": "stream",
     "text": [
      "error division by zero\n",
      "The error is handled\n"
     ]
    }
   ],
   "source": [
    "#Q4. Explain with an exaple a.try and else b.finally c.raise\n",
    "\n",
    "\n",
    "#try- the try is used check , is any error in code or not.\n",
    "\n",
    "try:\n",
    "    a=2\n",
    "    b=0\n",
    "    print(a/b)\n",
    "\n",
    "#else - the else statement is execute in excption hadling if there is no any exception in try block.\n",
    "\n",
    "#finally-  the finally block code is execute in every situation either in exception or not.\n",
    "\n",
    "except Exception as e:\n",
    "    print(\"error\",e)\n",
    "else:\n",
    "    print(\"a is divided by b\",a/b)\n",
    "finally:\n",
    "    print(\"The error is handled\")\n",
    "#raise - the raise is used in case of custom exception handling.\n",
    "\n"
   ]
  },
  {
   "cell_type": "code",
   "execution_count": 9,
   "id": "f56444df-7ef7-4eb2-88c0-c202dfa0e457",
   "metadata": {},
   "outputs": [
    {
     "name": "stdin",
     "output_type": "stream",
     "text": [
      "Enter your age -55\n"
     ]
    },
    {
     "ename": "NameError",
     "evalue": "name 'validate' is not defined",
     "output_type": "error",
     "traceback": [
      "\u001b[0;31m---------------------------------------------------------------------------\u001b[0m",
      "\u001b[0;31mTypeError\u001b[0m                                 Traceback (most recent call last)",
      "Cell \u001b[0;32mIn[9], line 21\u001b[0m\n\u001b[1;32m     20\u001b[0m     age\u001b[38;5;241m=\u001b[39m\u001b[38;5;28mint\u001b[39m(\u001b[38;5;28minput\u001b[39m(\u001b[38;5;124m\"\u001b[39m\u001b[38;5;124mEnter your age\u001b[39m\u001b[38;5;124m\"\u001b[39m))\n\u001b[0;32m---> 21\u001b[0m     \u001b[43mvalidateage\u001b[49m\u001b[43m(\u001b[49m\u001b[43mage\u001b[49m\u001b[43m)\u001b[49m\n\u001b[1;32m     22\u001b[0m \u001b[38;5;28;01mexcept\u001b[39;00m validate \u001b[38;5;28;01mas\u001b[39;00m e:\n",
      "Cell \u001b[0;32mIn[9], line 12\u001b[0m, in \u001b[0;36mvalidateage\u001b[0;34m(age)\u001b[0m\n\u001b[1;32m     11\u001b[0m \u001b[38;5;28;01mif\u001b[39;00m age \u001b[38;5;241m<\u001b[39m\u001b[38;5;241m0\u001b[39m:\n\u001b[0;32m---> 12\u001b[0m     \u001b[38;5;28;01mraise\u001b[39;00m \u001b[43mvalidateage\u001b[49m\u001b[43m(\u001b[49m\u001b[38;5;124;43m\"\u001b[39;49m\u001b[38;5;124;43mentered age is negative\u001b[39;49m\u001b[38;5;124;43m\"\u001b[39;49m\u001b[43m)\u001b[49m\n\u001b[1;32m     13\u001b[0m \u001b[38;5;28;01melif\u001b[39;00m age \u001b[38;5;241m<\u001b[39m\u001b[38;5;241m0\u001b[39m:\n",
      "Cell \u001b[0;32mIn[9], line 11\u001b[0m, in \u001b[0;36mvalidateage\u001b[0;34m(age)\u001b[0m\n\u001b[1;32m     10\u001b[0m \u001b[38;5;28;01mdef\u001b[39;00m \u001b[38;5;21mvalidateage\u001b[39m(age):\n\u001b[0;32m---> 11\u001b[0m     \u001b[38;5;28;01mif\u001b[39;00m \u001b[43mage\u001b[49m\u001b[43m \u001b[49m\u001b[38;5;241;43m<\u001b[39;49m\u001b[38;5;241;43m0\u001b[39;49m:\n\u001b[1;32m     12\u001b[0m         \u001b[38;5;28;01mraise\u001b[39;00m validateage(\u001b[38;5;124m\"\u001b[39m\u001b[38;5;124mentered age is negative\u001b[39m\u001b[38;5;124m\"\u001b[39m)\n",
      "\u001b[0;31mTypeError\u001b[0m: '<' not supported between instances of 'str' and 'int'",
      "\nDuring handling of the above exception, another exception occurred:\n",
      "\u001b[0;31mNameError\u001b[0m                                 Traceback (most recent call last)",
      "Cell \u001b[0;32mIn[9], line 22\u001b[0m\n\u001b[1;32m     20\u001b[0m     age\u001b[38;5;241m=\u001b[39m\u001b[38;5;28mint\u001b[39m(\u001b[38;5;28minput\u001b[39m(\u001b[38;5;124m\"\u001b[39m\u001b[38;5;124mEnter your age\u001b[39m\u001b[38;5;124m\"\u001b[39m))\n\u001b[1;32m     21\u001b[0m     validateage(age)\n\u001b[0;32m---> 22\u001b[0m \u001b[38;5;28;01mexcept\u001b[39;00m \u001b[43mvalidate\u001b[49m \u001b[38;5;28;01mas\u001b[39;00m e:\n\u001b[1;32m     23\u001b[0m             \u001b[38;5;28mprint\u001b[39m(e)\n",
      "\u001b[0;31mNameError\u001b[0m: name 'validate' is not defined"
     ]
    }
   ],
   "source": [
    "#Q5.  What are custom exception in python? Why do we need custom exception ? Explain with example.\n",
    "\n",
    "\n",
    "#The custom exception is used in case of non general error occured by the programmer.\n",
    "\n",
    "class validateage(Exception):\n",
    "    def __int__(self,msg):\n",
    "        self.msg=msg\n",
    "    \n",
    "def validateage(age):\n",
    "    if age <0:\n",
    "        raise validateage(\"entered age is negative\")\n",
    "    elif age <0:\n",
    "        raise validateage(\"entered age is very high\")\n",
    "    else:\n",
    "        print(\"age is valid\")\n",
    "        \n",
    "        \n",
    "try:\n",
    "    age=int(input(\"Enter your age\"))\n",
    "    validateage(age)\n",
    "except validate as e:\n",
    "            print(e)\n",
    "        "
   ]
  },
  {
   "cell_type": "code",
   "execution_count": null,
   "id": "03613fed-7379-4cc9-b6d2-7cd1e3772954",
   "metadata": {},
   "outputs": [],
   "source": [
    "#Q6. Create a custom exception class . use this class to handle the exception.\n",
    "\n",
    "class validateage(Exception):\n",
    "    def __int__(self,msg):\n",
    "        self.msg=msg\n",
    "    \n",
    "def validateage(age):\n",
    "    if age <0:\n",
    "        raise validateage(\"entered age is negative\")\n",
    "    elif age <0:\n",
    "        raise validateage(\"entered age is very high\")\n",
    "    else:\n",
    "        print(\"age is valid\")\n",
    "        \n",
    "        \n",
    "try:\n",
    "    age=int(input(\"Enter your age\"))\n",
    "    validateage(age)\n",
    "except validate as e:\n",
    "            print(e)\n",
    "        "
   ]
  }
 ],
 "metadata": {
  "kernelspec": {
   "display_name": "Python 3 (ipykernel)",
   "language": "python",
   "name": "python3"
  },
  "language_info": {
   "codemirror_mode": {
    "name": "ipython",
    "version": 3
   },
   "file_extension": ".py",
   "mimetype": "text/x-python",
   "name": "python",
   "nbconvert_exporter": "python",
   "pygments_lexer": "ipython3",
   "version": "3.10.8"
  }
 },
 "nbformat": 4,
 "nbformat_minor": 5
}
