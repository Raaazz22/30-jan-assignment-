{
 "cells": [
  {
   "cell_type": "code",
   "execution_count": null,
   "id": "00f1a4ba-1ba9-4c91-a527-8126290ed665",
   "metadata": {},
   "outputs": [],
   "source": [
    "#Q1. What is Abstraction in OOps? Explain with an example.\n",
    "\n",
    "#the abstraction in python is the blueprint or the schema of the class\n",
    "\n",
    "import abc\n",
    "\n",
    "class abst:\n",
    "    @abc.abstractmethod\n",
    "    def student_det(self):\n",
    "        pass\n",
    "    \n",
    "\n",
    "class student(abst):\n",
    "    def student_det(self):\n",
    "        return\"this is raj\"\n"
   ]
  },
  {
   "cell_type": "code",
   "execution_count": null,
   "id": "7d0ada32-cf7d-434d-a45d-ffdc0451f4f4",
   "metadata": {},
   "outputs": [],
   "source": [
    "#Q2. Differentiate between Abstraction and Encapsulation. Explain with an example.\n",
    "\n",
    " #Abstraction is hiding the details and implementation of the code. Encapsulation is hiding the data and \n",
    "#controlling the visibility of the code.\n",
    "\n"
   ]
  },
  {
   "cell_type": "code",
   "execution_count": null,
   "id": "ed32a4cb-13eb-4465-b4c7-5cae48ebe64e",
   "metadata": {},
   "outputs": [],
   "source": [
    "#Q3. What is abc module in python? Why is it used?\n",
    "\n",
    "#The 'abc' module in Python library provides the infrastructure for defining custom abstract base classes"
   ]
  },
  {
   "cell_type": "code",
   "execution_count": null,
   "id": "1b75f584-b6f5-4ea5-8aee-d7cd513a647b",
   "metadata": {},
   "outputs": [],
   "source": [
    "#Q4. How can we achieve data abstraction?'\n",
    "\n",
    "#Data Abstraction can be achieved in two ways:\n",
    "\n",
    "#Abstraction using classes\n",
    "#Abstraction in header files.\n"
   ]
  },
  {
   "cell_type": "code",
   "execution_count": null,
   "id": "eaff0707-2ab8-42e5-b84e-627e38133bd4",
   "metadata": {},
   "outputs": [],
   "source": [
    "#Q5. Can we create an instance of an abstract class? Explain your answer.\n",
    "\n",
    "#No, we can't create an object of an abstract class. But we can create a reference variable of an abstract class. \n",
    "#The reference variable is used to refer to the objects of derived classes (subclasses of abstract class)."
   ]
  }
 ],
 "metadata": {
  "kernelspec": {
   "display_name": "Python 3 (ipykernel)",
   "language": "python",
   "name": "python3"
  },
  "language_info": {
   "codemirror_mode": {
    "name": "ipython",
    "version": 3
   },
   "file_extension": ".py",
   "mimetype": "text/x-python",
   "name": "python",
   "nbconvert_exporter": "python",
   "pygments_lexer": "ipython3",
   "version": "3.10.8"
  }
 },
 "nbformat": 4,
 "nbformat_minor": 5
}
