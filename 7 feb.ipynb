{
 "cells": [
  {
   "cell_type": "code",
   "execution_count": 9,
   "id": "b004a7f8-f6e3-49f0-a63c-1b9499f92204",
   "metadata": {},
   "outputs": [
    {
     "name": "stdin",
     "output_type": "stream",
     "text": [
      "Enter your pasword 1234567890\n"
     ]
    },
    {
     "name": "stdout",
     "output_type": "stream",
     "text": [
      "INVALID PASSWORD \n"
     ]
    }
   ],
   "source": [
    "#Q1. You are writing code for a company. The requirement of the company is that you create a python\n",
    "#function that will check whether the password entered by the user is correct or not. The function should\n",
    "#take the password as input and return the string “Valid Password” if the entered password follows the\n",
    "#below-given password guidelines else it should return “Invalid Password”.\n",
    "#Note: 1. The Password should contain at least two uppercase letters and at least two lowercase letters.\n",
    "#2. The Password should contain at least a number and three special characters.\n",
    "#3. The length of the password should be 10 characters long.\n",
    "\n",
    "\n",
    "password  = input(\"Enter your pasword\")\n",
    "\n",
    "def validation(x):\n",
    "    count_upper = 0\n",
    "    count_lower = 0\n",
    "    count_no = 0\n",
    "    count_char = 0\n",
    "    length = len(x)\n",
    "    \n",
    "    special_char = [ \"@\", \"_ \",\"!\", \"# \",\"$ \",\"%\", \"^ \",\"&\" ,\"* \",\"( \",\")\", \"<\", \">\" ,\"?\", \"/ \",\"\\ \",\"|\", \"{ \",\"}\", \"~\", \":\" ] \n",
    "    for i in x:\n",
    "        if i.upper():\n",
    "            count_upper = count_upper +1\n",
    "    for i in x:\n",
    "        \n",
    "        if i.lower():\n",
    "            count_lower = count_lower +1\n",
    "            \n",
    "    for i in x:\n",
    "            \n",
    "        if i.isdigit():\n",
    "            count_no = count_no +1 \n",
    "            \n",
    "    for i in x:\n",
    "        for j in special_char:\n",
    "            if i == j:\n",
    "                count_char = count_char + 1\n",
    "\n",
    "    \n",
    "    if count_upper >= 2 and count_lower >= 2 and count_no >=1 and count_char >=  3 and  length == 10:\n",
    "        print(\"VALID PASSWORD \")\n",
    "        \n",
    "    else:\n",
    "        print(\"INVALID PASSWORD \")\n",
    "    \n",
    "validation(password)"
   ]
  },
  {
   "cell_type": "code",
   "execution_count": 2,
   "id": "fcd8ddf5-e48d-4ccc-9e6c-aecfbdda786f",
   "metadata": {},
   "outputs": [
    {
     "name": "stdin",
     "output_type": "stream",
     "text": [
      "Enter your string datascience\n"
     ]
    },
    {
     "name": "stdout",
     "output_type": "stream",
     "text": [
      "No\n"
     ]
    },
    {
     "name": "stdin",
     "output_type": "stream",
     "text": [
      "Enter your string computer\n"
     ]
    },
    {
     "name": "stdout",
     "output_type": "stream",
     "text": [
      "No\n"
     ]
    }
   ],
   "source": [
    "#Ques-2 . \n",
    "\n",
    "\n",
    "#Check if the string starts with a particular letter.\n",
    "string = str(input(\"Enter your string\"))\n",
    "\n",
    "if string.startswith(\"a\"):\n",
    "    print(\"Yes\")\n",
    "    \n",
    "else:\n",
    "    print(\"No\")\n",
    "    \n",
    " #Check if the string is numeric\n",
    "\n",
    "string = input(\"Enter your string\")\n",
    "\n",
    "if string.isnumeric():\n",
    "    print(\"Yes\")\n",
    "    \n",
    "else:\n",
    "    print(\"No\")\n",
    "    \n",
    "    \n",
    "\n"
   ]
  },
  {
   "cell_type": "code",
   "execution_count": null,
   "id": "1d29281f-1c5c-4956-b2cd-8b32e4914338",
   "metadata": {},
   "outputs": [],
   "source": []
  }
 ],
 "metadata": {
  "kernelspec": {
   "display_name": "Python 3 (ipykernel)",
   "language": "python",
   "name": "python3"
  },
  "language_info": {
   "codemirror_mode": {
    "name": "ipython",
    "version": 3
   },
   "file_extension": ".py",
   "mimetype": "text/x-python",
   "name": "python",
   "nbconvert_exporter": "python",
   "pygments_lexer": "ipython3",
   "version": "3.10.8"
  }
 },
 "nbformat": 4,
 "nbformat_minor": 5
}
